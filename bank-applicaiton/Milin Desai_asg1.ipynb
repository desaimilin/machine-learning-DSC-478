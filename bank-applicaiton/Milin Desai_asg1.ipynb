{
 "cells": [
  {
   "cell_type": "code",
   "execution_count": 4,
   "metadata": {},
   "outputs": [],
   "source": [
    "import numpy as np\n",
    "import pandas as pd\n",
    "import matplotlib.pyplot as plt\n",
    "%matplotlib inline"
   ]
  },
  {
   "cell_type": "code",
   "execution_count": 23,
   "metadata": {},
   "outputs": [
    {
     "data": {
      "text/html": [
       "<div>\n",
       "<style scoped>\n",
       "    .dataframe tbody tr th:only-of-type {\n",
       "        vertical-align: middle;\n",
       "    }\n",
       "\n",
       "    .dataframe tbody tr th {\n",
       "        vertical-align: top;\n",
       "    }\n",
       "\n",
       "    .dataframe thead th {\n",
       "        text-align: right;\n",
       "    }\n",
       "</style>\n",
       "<table border=\"1\" class=\"dataframe\">\n",
       "  <thead>\n",
       "    <tr style=\"text-align: right;\">\n",
       "      <th></th>\n",
       "      <th>id</th>\n",
       "      <th>age</th>\n",
       "      <th>income</th>\n",
       "      <th>children</th>\n",
       "      <th>gender</th>\n",
       "      <th>region</th>\n",
       "      <th>married</th>\n",
       "      <th>car</th>\n",
       "      <th>savings_acct</th>\n",
       "      <th>current_acct</th>\n",
       "      <th>mortgage</th>\n",
       "      <th>pep</th>\n",
       "    </tr>\n",
       "  </thead>\n",
       "  <tbody>\n",
       "    <tr>\n",
       "      <th>0</th>\n",
       "      <td>ID12101</td>\n",
       "      <td>48</td>\n",
       "      <td>17546.0</td>\n",
       "      <td>1</td>\n",
       "      <td>FEMALE</td>\n",
       "      <td>INNER_CITY</td>\n",
       "      <td>NO</td>\n",
       "      <td>NO</td>\n",
       "      <td>NO</td>\n",
       "      <td>NO</td>\n",
       "      <td>NO</td>\n",
       "      <td>YES</td>\n",
       "    </tr>\n",
       "    <tr>\n",
       "      <th>1</th>\n",
       "      <td>ID12102</td>\n",
       "      <td>40</td>\n",
       "      <td>30085.1</td>\n",
       "      <td>3</td>\n",
       "      <td>MALE</td>\n",
       "      <td>TOWN</td>\n",
       "      <td>YES</td>\n",
       "      <td>YES</td>\n",
       "      <td>NO</td>\n",
       "      <td>YES</td>\n",
       "      <td>YES</td>\n",
       "      <td>NO</td>\n",
       "    </tr>\n",
       "    <tr>\n",
       "      <th>2</th>\n",
       "      <td>ID12103</td>\n",
       "      <td>51</td>\n",
       "      <td>16575.4</td>\n",
       "      <td>0</td>\n",
       "      <td>FEMALE</td>\n",
       "      <td>INNER_CITY</td>\n",
       "      <td>YES</td>\n",
       "      <td>YES</td>\n",
       "      <td>YES</td>\n",
       "      <td>YES</td>\n",
       "      <td>NO</td>\n",
       "      <td>NO</td>\n",
       "    </tr>\n",
       "    <tr>\n",
       "      <th>3</th>\n",
       "      <td>ID12104</td>\n",
       "      <td>23</td>\n",
       "      <td>20375.4</td>\n",
       "      <td>3</td>\n",
       "      <td>FEMALE</td>\n",
       "      <td>TOWN</td>\n",
       "      <td>YES</td>\n",
       "      <td>NO</td>\n",
       "      <td>NO</td>\n",
       "      <td>YES</td>\n",
       "      <td>NO</td>\n",
       "      <td>NO</td>\n",
       "    </tr>\n",
       "    <tr>\n",
       "      <th>4</th>\n",
       "      <td>ID12105</td>\n",
       "      <td>57</td>\n",
       "      <td>50576.3</td>\n",
       "      <td>0</td>\n",
       "      <td>FEMALE</td>\n",
       "      <td>RURAL</td>\n",
       "      <td>YES</td>\n",
       "      <td>NO</td>\n",
       "      <td>YES</td>\n",
       "      <td>NO</td>\n",
       "      <td>NO</td>\n",
       "      <td>NO</td>\n",
       "    </tr>\n",
       "  </tbody>\n",
       "</table>\n",
       "</div>"
      ],
      "text/plain": [
       "        id  age   income  children  gender      region married  car  \\\n",
       "0  ID12101   48  17546.0         1  FEMALE  INNER_CITY      NO   NO   \n",
       "1  ID12102   40  30085.1         3    MALE        TOWN     YES  YES   \n",
       "2  ID12103   51  16575.4         0  FEMALE  INNER_CITY     YES  YES   \n",
       "3  ID12104   23  20375.4         3  FEMALE        TOWN     YES   NO   \n",
       "4  ID12105   57  50576.3         0  FEMALE       RURAL     YES   NO   \n",
       "\n",
       "  savings_acct current_acct mortgage  pep  \n",
       "0           NO           NO       NO  YES  \n",
       "1           NO          YES      YES   NO  \n",
       "2          YES          YES       NO   NO  \n",
       "3           NO          YES       NO   NO  \n",
       "4          YES           NO       NO   NO  "
      ]
     },
     "execution_count": 23,
     "metadata": {},
     "output_type": "execute_result"
    }
   ],
   "source": [
    "pop_df = pd.read_csv(r\"C:\\Users\\MDESAI12\\bank_data.csv\")\n",
    "pop_df\n",
    "pop_df.head(5)"
   ]
  },
  {
   "cell_type": "markdown",
   "metadata": {},
   "source": [
    "Q1) General Characteristics"
   ]
  },
  {
   "cell_type": "code",
   "execution_count": 3,
   "metadata": {},
   "outputs": [
    {
     "data": {
      "text/html": [
       "<div>\n",
       "<style scoped>\n",
       "    .dataframe tbody tr th:only-of-type {\n",
       "        vertical-align: middle;\n",
       "    }\n",
       "\n",
       "    .dataframe tbody tr th {\n",
       "        vertical-align: top;\n",
       "    }\n",
       "\n",
       "    .dataframe thead th {\n",
       "        text-align: right;\n",
       "    }\n",
       "</style>\n",
       "<table border=\"1\" class=\"dataframe\">\n",
       "  <thead>\n",
       "    <tr style=\"text-align: right;\">\n",
       "      <th></th>\n",
       "      <th>age</th>\n",
       "      <th>income</th>\n",
       "      <th>children</th>\n",
       "    </tr>\n",
       "  </thead>\n",
       "  <tbody>\n",
       "    <tr>\n",
       "      <th>count</th>\n",
       "      <td>600.000000</td>\n",
       "      <td>600.000000</td>\n",
       "      <td>600.000000</td>\n",
       "    </tr>\n",
       "    <tr>\n",
       "      <th>mean</th>\n",
       "      <td>42.395000</td>\n",
       "      <td>27524.031217</td>\n",
       "      <td>1.011667</td>\n",
       "    </tr>\n",
       "    <tr>\n",
       "      <th>std</th>\n",
       "      <td>14.424947</td>\n",
       "      <td>12899.468246</td>\n",
       "      <td>1.056752</td>\n",
       "    </tr>\n",
       "    <tr>\n",
       "      <th>min</th>\n",
       "      <td>18.000000</td>\n",
       "      <td>5014.210000</td>\n",
       "      <td>0.000000</td>\n",
       "    </tr>\n",
       "    <tr>\n",
       "      <th>25%</th>\n",
       "      <td>30.000000</td>\n",
       "      <td>17264.500000</td>\n",
       "      <td>0.000000</td>\n",
       "    </tr>\n",
       "    <tr>\n",
       "      <th>50%</th>\n",
       "      <td>42.000000</td>\n",
       "      <td>24925.300000</td>\n",
       "      <td>1.000000</td>\n",
       "    </tr>\n",
       "    <tr>\n",
       "      <th>75%</th>\n",
       "      <td>55.250000</td>\n",
       "      <td>36172.675000</td>\n",
       "      <td>2.000000</td>\n",
       "    </tr>\n",
       "    <tr>\n",
       "      <th>max</th>\n",
       "      <td>67.000000</td>\n",
       "      <td>63130.100000</td>\n",
       "      <td>3.000000</td>\n",
       "    </tr>\n",
       "  </tbody>\n",
       "</table>\n",
       "</div>"
      ],
      "text/plain": [
       "              age        income    children\n",
       "count  600.000000    600.000000  600.000000\n",
       "mean    42.395000  27524.031217    1.011667\n",
       "std     14.424947  12899.468246    1.056752\n",
       "min     18.000000   5014.210000    0.000000\n",
       "25%     30.000000  17264.500000    0.000000\n",
       "50%     42.000000  24925.300000    1.000000\n",
       "75%     55.250000  36172.675000    2.000000\n",
       "max     67.000000  63130.100000    3.000000"
      ]
     },
     "execution_count": 3,
     "metadata": {},
     "output_type": "execute_result"
    }
   ],
   "source": [
    "pop_df.describe()"
   ]
  },
  {
   "cell_type": "code",
   "execution_count": 8,
   "metadata": {},
   "outputs": [
    {
     "data": {
      "text/plain": [
       "<matplotlib.axes._subplots.AxesSubplot at 0x502d3b0>"
      ]
     },
     "execution_count": 8,
     "metadata": {},
     "output_type": "execute_result"
    },
    {
     "data": {
      "image/png": "[encoded data removed]",
      "text/plain": [
       "<Figure size 432x288 with 1 Axes>"
      ]
     },
     "metadata": {
      "needs_background": "light"
     },
     "output_type": "display_data"
    }
   ],
   "source": [
    "pop_df['gender'].value_counts().plot(kind='bar')"
   ]
  },
  {
   "cell_type": "code",
   "execution_count": 7,
   "metadata": {},
   "outputs": [
    {
     "data": {
      "text/plain": [
       "<matplotlib.axes._subplots.AxesSubplot at 0x8f08370>"
      ]
     },
     "execution_count": 7,
     "metadata": {},
     "output_type": "execute_result"
    },
    {
     "data": {
      "image/png": "[encoded data removed]",
      "text/plain": [
       "<Figure size 432x288 with 1 Axes>"
      ]
     },
     "metadata": {
      "needs_background": "light"
     },
     "output_type": "display_data"
    }
   ],
   "source": [
    "pop_df['region'].value_counts().plot(kind='bar')"
   ]
  },
  {
   "cell_type": "code",
   "execution_count": 9,
   "metadata": {},
   "outputs": [
    {
     "data": {
      "text/plain": [
       "<matplotlib.axes._subplots.AxesSubplot at 0x90090d0>"
      ]
     },
     "execution_count": 9,
     "metadata": {},
     "output_type": "execute_result"
    },
    {
     "data": {
      "image/png": "[encoded data removed]",
      "text/plain": [
       "<Figure size 432x288 with 1 Axes>"
      ]
     },
     "metadata": {
      "needs_background": "light"
     },
     "output_type": "display_data"
    }
   ],
   "source": [
    "pop_df['married'].value_counts().plot(kind='bar')\n"
   ]
  },
  {
   "cell_type": "code",
   "execution_count": 13,
   "metadata": {},
   "outputs": [
    {
     "data": {
      "text/plain": [
       "<matplotlib.axes._subplots.AxesSubplot at 0x90e21b0>"
      ]
     },
     "execution_count": 13,
     "metadata": {},
     "output_type": "execute_result"
    },
    {
     "data": {
      "image/png": "[encoded data removed]",
      "text/plain": [
       "<Figure size 432x288 with 1 Axes>"
      ]
     },
     "metadata": {
      "needs_background": "light"
     },
     "output_type": "display_data"
    }
   ],
   "source": [
    "pop_df['car'].value_counts().plot(kind='bar')"
   ]
  },
  {
   "cell_type": "code",
   "execution_count": 14,
   "metadata": {},
   "outputs": [
    {
     "data": {
      "text/plain": [
       "<matplotlib.axes._subplots.AxesSubplot at 0x912ab30>"
      ]
     },
     "execution_count": 14,
     "metadata": {},
     "output_type": "execute_result"
    },
    {
     "data": {
      "image/png": "[encoded data removed]",
      "text/plain": [
       "<Figure size 432x288 with 1 Axes>"
      ]
     },
     "metadata": {
      "needs_background": "light"
     },
     "output_type": "display_data"
    }
   ],
   "source": [
    "pop_df['savings_acct'].value_counts().plot(kind='bar')"
   ]
  },
  {
   "cell_type": "code",
   "execution_count": 15,
   "metadata": {},
   "outputs": [
    {
     "data": {
      "text/plain": [
       "<matplotlib.axes._subplots.AxesSubplot at 0x9104f90>"
      ]
     },
     "execution_count": 15,
     "metadata": {},
     "output_type": "execute_result"
    },
    {
     "data": {
      "image/png": "[encoded data removed]",
      "text/plain": [
       "<Figure size 432x288 with 1 Axes>"
      ]
     },
     "metadata": {
      "needs_background": "light"
     },
     "output_type": "display_data"
    }
   ],
   "source": [
    "pop_df['current_acct'].value_counts().plot(kind='bar')"
   ]
  },
  {
   "cell_type": "code",
   "execution_count": 16,
   "metadata": {},
   "outputs": [
    {
     "data": {
      "text/plain": [
       "<matplotlib.axes._subplots.AxesSubplot at 0x91b5d30>"
      ]
     },
     "execution_count": 16,
     "metadata": {},
     "output_type": "execute_result"
    },
    {
     "data": {
      "image/png": "[encoded data removed]",
      "text/plain": [
       "<Figure size 432x288 with 1 Axes>"
      ]
     },
     "metadata": {
      "needs_background": "light"
     },
     "output_type": "display_data"
    }
   ],
   "source": [
    "pop_df['mortgage'].value_counts().plot(kind='bar')"
   ]
  },
  {
   "cell_type": "code",
   "execution_count": 17,
   "metadata": {},
   "outputs": [
    {
     "data": {
      "text/plain": [
       "<matplotlib.axes._subplots.AxesSubplot at 0x91f3f90>"
      ]
     },
     "execution_count": 17,
     "metadata": {},
     "output_type": "execute_result"
    },
    {
     "data": {
      "image/png": "[encoded data removed]",
      "text/plain": [
       "<Figure size 432x288 with 1 Axes>"
      ]
     },
     "metadata": {
      "needs_background": "light"
     },
     "output_type": "display_data"
    }
   ],
   "source": [
    "pop_df['pep'].value_counts().plot(kind='bar')"
   ]
  },
  {
   "cell_type": "markdown",
   "metadata": {},
   "source": [
    "Q2) Compare pep"
   ]
  },
  {
   "cell_type": "code",
   "execution_count": 20,
   "metadata": {},
   "outputs": [
    {
     "name": "stdout",
     "output_type": "stream",
     "text": [
      "pep                       NO           YES\n",
      "age      count    326.000000    274.000000\n",
      "         mean      40.098160     45.127737\n",
      "         std       14.123506     14.327991\n",
      "         min       18.000000     18.000000\n",
      "         25%       27.000000     34.000000\n",
      "         50%       40.000000     45.000000\n",
      "         75%       51.000000     58.000000\n",
      "         max       67.000000     67.000000\n",
      "income   count    326.000000    274.000000\n",
      "         mean   24900.953374  30644.919453\n",
      "         std    11661.123422  13609.613043\n",
      "         min     5014.210000   7756.360000\n",
      "         25%    15366.475000  19639.475000\n",
      "         50%    23105.000000  28080.050000\n",
      "         75%    31210.900000  38458.350000\n",
      "         max    61554.600000  63130.100000\n",
      "children count    326.000000    274.000000\n",
      "         mean       1.067485      0.945255\n",
      "         std        1.195524      0.860571\n",
      "         min        0.000000      0.000000\n",
      "         25%        0.000000      0.000000\n",
      "         50%        0.000000      1.000000\n",
      "         75%        2.000000      1.000000\n",
      "         max        3.000000      3.000000\n"
     ]
    }
   ],
   "source": [
    "pop_com = pop_df.groupby(['pep']).describe().T\n",
    "print(pop_com)"
   ]
  },
  {
   "cell_type": "markdown",
   "metadata": {},
   "source": [
    "If pep is yes then income is high , so we can tell that person who have tak eequity plans they are earning more than the average. you can also see that person with number of children is less likely to by equity plans."
   ]
  },
  {
   "cell_type": "markdown",
   "metadata": {},
   "source": [
    "Q3) Z-score Normalization"
   ]
  },
  {
   "cell_type": "code",
   "execution_count": 21,
   "metadata": {},
   "outputs": [
    {
     "data": {
      "text/plain": [
       "0   -0.773523\n",
       "1    0.198541\n",
       "2   -0.848766\n",
       "3   -0.554180\n",
       "4    1.787071\n",
       "Name: income, dtype: float64"
      ]
     },
     "execution_count": 21,
     "metadata": {},
     "output_type": "execute_result"
    }
   ],
   "source": [
    "zscore_inc = (pop_df[\"income\"] - pop_df[\"income\"].mean()) / pop_df[\"income\"].std() \n",
    "zscore_inc.head(5)"
   ]
  },
  {
   "cell_type": "markdown",
   "metadata": {},
   "source": [
    "Q4) Discretize age"
   ]
  },
  {
   "cell_type": "code",
   "execution_count": 22,
   "metadata": {},
   "outputs": [
    {
     "data": {
      "text/plain": [
       "0    mid-age\n",
       "1    mid-age\n",
       "2        old\n",
       "3      young\n",
       "4        old\n",
       "5        old\n",
       "6      young\n",
       "7        old\n",
       "8    mid-age\n",
       "9        old\n",
       "Name: age, dtype: category\n",
       "Categories (3, object): [young < mid-age < old]"
      ]
     },
     "execution_count": 22,
     "metadata": {},
     "output_type": "execute_result"
    }
   ],
   "source": [
    "discrete = pd.qcut(pop_df.age, [0, .33, .66, 1], labels = [\"young\", \"mid-age\", \"old\"])\n",
    "discrete.head(10)"
   ]
  },
  {
   "cell_type": "markdown",
   "metadata": {},
   "source": [
    "Min-Max normalization"
   ]
  },
  {
   "cell_type": "code",
   "execution_count": 24,
   "metadata": {},
   "outputs": [],
   "source": [
    "min_max_age = (pop_df['age'] - pop_df['age'].min()) / (pop_df['age'].max() - pop_df['age'].min())"
   ]
  },
  {
   "cell_type": "code",
   "execution_count": 25,
   "metadata": {},
   "outputs": [],
   "source": [
    "min_max_inc = (pop_df['income'] - pop_df['income'].min()) / (pop_df['income'].max() - pop_df['income'].min())"
   ]
  },
  {
   "cell_type": "code",
   "execution_count": 26,
   "metadata": {},
   "outputs": [],
   "source": [
    "min_max_children = (pop_df['children'] - pop_df['children'].min()) / (pop_df['children'].max() - pop_df['children'].min())"
   ]
  },
  {
   "cell_type": "code",
   "execution_count": 27,
   "metadata": {},
   "outputs": [],
   "source": [
    "pop_df['age'] = min_max_age\n",
    "pop_df['income'] = min_max_inc\n",
    "pop_df['children'] = min_max_children"
   ]
  },
  {
   "cell_type": "code",
   "execution_count": 28,
   "metadata": {},
   "outputs": [
    {
     "data": {
      "text/html": [
       "<div>\n",
       "<style scoped>\n",
       "    .dataframe tbody tr th:only-of-type {\n",
       "        vertical-align: middle;\n",
       "    }\n",
       "\n",
       "    .dataframe tbody tr th {\n",
       "        vertical-align: top;\n",
       "    }\n",
       "\n",
       "    .dataframe thead th {\n",
       "        text-align: right;\n",
       "    }\n",
       "</style>\n",
       "<table border=\"1\" class=\"dataframe\">\n",
       "  <thead>\n",
       "    <tr style=\"text-align: right;\">\n",
       "      <th></th>\n",
       "      <th>id</th>\n",
       "      <th>age</th>\n",
       "      <th>income</th>\n",
       "      <th>children</th>\n",
       "      <th>gender</th>\n",
       "      <th>region</th>\n",
       "      <th>married</th>\n",
       "      <th>car</th>\n",
       "      <th>savings_acct</th>\n",
       "      <th>current_acct</th>\n",
       "      <th>mortgage</th>\n",
       "      <th>pep</th>\n",
       "    </tr>\n",
       "  </thead>\n",
       "  <tbody>\n",
       "    <tr>\n",
       "      <th>0</th>\n",
       "      <td>ID12101</td>\n",
       "      <td>0.612245</td>\n",
       "      <td>0.215634</td>\n",
       "      <td>0.333333</td>\n",
       "      <td>FEMALE</td>\n",
       "      <td>INNER_CITY</td>\n",
       "      <td>NO</td>\n",
       "      <td>NO</td>\n",
       "      <td>NO</td>\n",
       "      <td>NO</td>\n",
       "      <td>NO</td>\n",
       "      <td>YES</td>\n",
       "    </tr>\n",
       "    <tr>\n",
       "      <th>1</th>\n",
       "      <td>ID12102</td>\n",
       "      <td>0.448980</td>\n",
       "      <td>0.431395</td>\n",
       "      <td>1.000000</td>\n",
       "      <td>MALE</td>\n",
       "      <td>TOWN</td>\n",
       "      <td>YES</td>\n",
       "      <td>YES</td>\n",
       "      <td>NO</td>\n",
       "      <td>YES</td>\n",
       "      <td>YES</td>\n",
       "      <td>NO</td>\n",
       "    </tr>\n",
       "    <tr>\n",
       "      <th>2</th>\n",
       "      <td>ID12103</td>\n",
       "      <td>0.673469</td>\n",
       "      <td>0.198933</td>\n",
       "      <td>0.000000</td>\n",
       "      <td>FEMALE</td>\n",
       "      <td>INNER_CITY</td>\n",
       "      <td>YES</td>\n",
       "      <td>YES</td>\n",
       "      <td>YES</td>\n",
       "      <td>YES</td>\n",
       "      <td>NO</td>\n",
       "      <td>NO</td>\n",
       "    </tr>\n",
       "    <tr>\n",
       "      <th>3</th>\n",
       "      <td>ID12104</td>\n",
       "      <td>0.102041</td>\n",
       "      <td>0.264320</td>\n",
       "      <td>1.000000</td>\n",
       "      <td>FEMALE</td>\n",
       "      <td>TOWN</td>\n",
       "      <td>YES</td>\n",
       "      <td>NO</td>\n",
       "      <td>NO</td>\n",
       "      <td>YES</td>\n",
       "      <td>NO</td>\n",
       "      <td>NO</td>\n",
       "    </tr>\n",
       "    <tr>\n",
       "      <th>4</th>\n",
       "      <td>ID12105</td>\n",
       "      <td>0.795918</td>\n",
       "      <td>0.783987</td>\n",
       "      <td>0.000000</td>\n",
       "      <td>FEMALE</td>\n",
       "      <td>RURAL</td>\n",
       "      <td>YES</td>\n",
       "      <td>NO</td>\n",
       "      <td>YES</td>\n",
       "      <td>NO</td>\n",
       "      <td>NO</td>\n",
       "      <td>NO</td>\n",
       "    </tr>\n",
       "  </tbody>\n",
       "</table>\n",
       "</div>"
      ],
      "text/plain": [
       "        id       age    income  children  gender      region married  car  \\\n",
       "0  ID12101  0.612245  0.215634  0.333333  FEMALE  INNER_CITY      NO   NO   \n",
       "1  ID12102  0.448980  0.431395  1.000000    MALE        TOWN     YES  YES   \n",
       "2  ID12103  0.673469  0.198933  0.000000  FEMALE  INNER_CITY     YES  YES   \n",
       "3  ID12104  0.102041  0.264320  1.000000  FEMALE        TOWN     YES   NO   \n",
       "4  ID12105  0.795918  0.783987  0.000000  FEMALE       RURAL     YES   NO   \n",
       "\n",
       "  savings_acct current_acct mortgage  pep  \n",
       "0           NO           NO       NO  YES  \n",
       "1           NO          YES      YES   NO  \n",
       "2          YES          YES       NO   NO  \n",
       "3           NO          YES       NO   NO  \n",
       "4          YES           NO       NO   NO  "
      ]
     },
     "execution_count": 28,
     "metadata": {},
     "output_type": "execute_result"
    }
   ],
   "source": [
    "pop_df.head(5)"
   ]
  },
  {
   "cell_type": "markdown",
   "metadata": {},
   "source": [
    "Q6) Standard Spreadsheet"
   ]
  },
  {
   "cell_type": "code",
   "execution_count": 31,
   "metadata": {},
   "outputs": [],
   "source": [
    "pop2_df = pop_df.drop('id', axis=1)"
   ]
  },
  {
   "cell_type": "code",
   "execution_count": 36,
   "metadata": {},
   "outputs": [
    {
     "data": {
      "text/html": [
       "<div>\n",
       "<style scoped>\n",
       "    .dataframe tbody tr th:only-of-type {\n",
       "        vertical-align: middle;\n",
       "    }\n",
       "\n",
       "    .dataframe tbody tr th {\n",
       "        vertical-align: top;\n",
       "    }\n",
       "\n",
       "    .dataframe thead th {\n",
       "        text-align: right;\n",
       "    }\n",
       "</style>\n",
       "<table border=\"1\" class=\"dataframe\">\n",
       "  <thead>\n",
       "    <tr style=\"text-align: right;\">\n",
       "      <th></th>\n",
       "      <th>age</th>\n",
       "      <th>income</th>\n",
       "      <th>children</th>\n",
       "      <th>gender_FEMALE</th>\n",
       "      <th>gender_MALE</th>\n",
       "      <th>region_INNER_CITY</th>\n",
       "      <th>region_RURAL</th>\n",
       "      <th>region_SUBURBAN</th>\n",
       "      <th>region_TOWN</th>\n",
       "      <th>married_NO</th>\n",
       "      <th>...</th>\n",
       "      <th>car_NO</th>\n",
       "      <th>car_YES</th>\n",
       "      <th>savings_acct_NO</th>\n",
       "      <th>savings_acct_YES</th>\n",
       "      <th>current_acct_NO</th>\n",
       "      <th>current_acct_YES</th>\n",
       "      <th>mortgage_NO</th>\n",
       "      <th>mortgage_YES</th>\n",
       "      <th>pep_NO</th>\n",
       "      <th>pep_YES</th>\n",
       "    </tr>\n",
       "  </thead>\n",
       "  <tbody>\n",
       "    <tr>\n",
       "      <th>0</th>\n",
       "      <td>0.612245</td>\n",
       "      <td>0.215634</td>\n",
       "      <td>0.333333</td>\n",
       "      <td>1</td>\n",
       "      <td>0</td>\n",
       "      <td>1</td>\n",
       "      <td>0</td>\n",
       "      <td>0</td>\n",
       "      <td>0</td>\n",
       "      <td>1</td>\n",
       "      <td>...</td>\n",
       "      <td>1</td>\n",
       "      <td>0</td>\n",
       "      <td>1</td>\n",
       "      <td>0</td>\n",
       "      <td>1</td>\n",
       "      <td>0</td>\n",
       "      <td>1</td>\n",
       "      <td>0</td>\n",
       "      <td>0</td>\n",
       "      <td>1</td>\n",
       "    </tr>\n",
       "    <tr>\n",
       "      <th>1</th>\n",
       "      <td>0.448980</td>\n",
       "      <td>0.431395</td>\n",
       "      <td>1.000000</td>\n",
       "      <td>0</td>\n",
       "      <td>1</td>\n",
       "      <td>0</td>\n",
       "      <td>0</td>\n",
       "      <td>0</td>\n",
       "      <td>1</td>\n",
       "      <td>0</td>\n",
       "      <td>...</td>\n",
       "      <td>0</td>\n",
       "      <td>1</td>\n",
       "      <td>1</td>\n",
       "      <td>0</td>\n",
       "      <td>0</td>\n",
       "      <td>1</td>\n",
       "      <td>0</td>\n",
       "      <td>1</td>\n",
       "      <td>1</td>\n",
       "      <td>0</td>\n",
       "    </tr>\n",
       "    <tr>\n",
       "      <th>2</th>\n",
       "      <td>0.673469</td>\n",
       "      <td>0.198933</td>\n",
       "      <td>0.000000</td>\n",
       "      <td>1</td>\n",
       "      <td>0</td>\n",
       "      <td>1</td>\n",
       "      <td>0</td>\n",
       "      <td>0</td>\n",
       "      <td>0</td>\n",
       "      <td>0</td>\n",
       "      <td>...</td>\n",
       "      <td>0</td>\n",
       "      <td>1</td>\n",
       "      <td>0</td>\n",
       "      <td>1</td>\n",
       "      <td>0</td>\n",
       "      <td>1</td>\n",
       "      <td>1</td>\n",
       "      <td>0</td>\n",
       "      <td>1</td>\n",
       "      <td>0</td>\n",
       "    </tr>\n",
       "    <tr>\n",
       "      <th>3</th>\n",
       "      <td>0.102041</td>\n",
       "      <td>0.264320</td>\n",
       "      <td>1.000000</td>\n",
       "      <td>1</td>\n",
       "      <td>0</td>\n",
       "      <td>0</td>\n",
       "      <td>0</td>\n",
       "      <td>0</td>\n",
       "      <td>1</td>\n",
       "      <td>0</td>\n",
       "      <td>...</td>\n",
       "      <td>1</td>\n",
       "      <td>0</td>\n",
       "      <td>1</td>\n",
       "      <td>0</td>\n",
       "      <td>0</td>\n",
       "      <td>1</td>\n",
       "      <td>1</td>\n",
       "      <td>0</td>\n",
       "      <td>1</td>\n",
       "      <td>0</td>\n",
       "    </tr>\n",
       "    <tr>\n",
       "      <th>4</th>\n",
       "      <td>0.795918</td>\n",
       "      <td>0.783987</td>\n",
       "      <td>0.000000</td>\n",
       "      <td>1</td>\n",
       "      <td>0</td>\n",
       "      <td>0</td>\n",
       "      <td>1</td>\n",
       "      <td>0</td>\n",
       "      <td>0</td>\n",
       "      <td>0</td>\n",
       "      <td>...</td>\n",
       "      <td>1</td>\n",
       "      <td>0</td>\n",
       "      <td>0</td>\n",
       "      <td>1</td>\n",
       "      <td>1</td>\n",
       "      <td>0</td>\n",
       "      <td>1</td>\n",
       "      <td>0</td>\n",
       "      <td>1</td>\n",
       "      <td>0</td>\n",
       "    </tr>\n",
       "    <tr>\n",
       "      <th>5</th>\n",
       "      <td>0.795918</td>\n",
       "      <td>0.565343</td>\n",
       "      <td>0.666667</td>\n",
       "      <td>1</td>\n",
       "      <td>0</td>\n",
       "      <td>0</td>\n",
       "      <td>0</td>\n",
       "      <td>0</td>\n",
       "      <td>1</td>\n",
       "      <td>0</td>\n",
       "      <td>...</td>\n",
       "      <td>1</td>\n",
       "      <td>0</td>\n",
       "      <td>0</td>\n",
       "      <td>1</td>\n",
       "      <td>0</td>\n",
       "      <td>1</td>\n",
       "      <td>1</td>\n",
       "      <td>0</td>\n",
       "      <td>0</td>\n",
       "      <td>1</td>\n",
       "    </tr>\n",
       "    <tr>\n",
       "      <th>6</th>\n",
       "      <td>0.081633</td>\n",
       "      <td>0.066468</td>\n",
       "      <td>0.000000</td>\n",
       "      <td>0</td>\n",
       "      <td>1</td>\n",
       "      <td>0</td>\n",
       "      <td>1</td>\n",
       "      <td>0</td>\n",
       "      <td>0</td>\n",
       "      <td>1</td>\n",
       "      <td>...</td>\n",
       "      <td>1</td>\n",
       "      <td>0</td>\n",
       "      <td>1</td>\n",
       "      <td>0</td>\n",
       "      <td>0</td>\n",
       "      <td>1</td>\n",
       "      <td>1</td>\n",
       "      <td>0</td>\n",
       "      <td>0</td>\n",
       "      <td>1</td>\n",
       "    </tr>\n",
       "    <tr>\n",
       "      <th>7</th>\n",
       "      <td>0.816327</td>\n",
       "      <td>0.342977</td>\n",
       "      <td>0.000000</td>\n",
       "      <td>0</td>\n",
       "      <td>1</td>\n",
       "      <td>0</td>\n",
       "      <td>0</td>\n",
       "      <td>0</td>\n",
       "      <td>1</td>\n",
       "      <td>0</td>\n",
       "      <td>...</td>\n",
       "      <td>0</td>\n",
       "      <td>1</td>\n",
       "      <td>0</td>\n",
       "      <td>1</td>\n",
       "      <td>0</td>\n",
       "      <td>1</td>\n",
       "      <td>1</td>\n",
       "      <td>0</td>\n",
       "      <td>1</td>\n",
       "      <td>0</td>\n",
       "    </tr>\n",
       "    <tr>\n",
       "      <th>8</th>\n",
       "      <td>0.387755</td>\n",
       "      <td>0.349132</td>\n",
       "      <td>0.666667</td>\n",
       "      <td>1</td>\n",
       "      <td>0</td>\n",
       "      <td>0</td>\n",
       "      <td>0</td>\n",
       "      <td>1</td>\n",
       "      <td>0</td>\n",
       "      <td>0</td>\n",
       "      <td>...</td>\n",
       "      <td>0</td>\n",
       "      <td>1</td>\n",
       "      <td>1</td>\n",
       "      <td>0</td>\n",
       "      <td>1</td>\n",
       "      <td>0</td>\n",
       "      <td>1</td>\n",
       "      <td>0</td>\n",
       "      <td>1</td>\n",
       "      <td>0</td>\n",
       "    </tr>\n",
       "    <tr>\n",
       "      <th>9</th>\n",
       "      <td>0.734694</td>\n",
       "      <td>0.330338</td>\n",
       "      <td>0.666667</td>\n",
       "      <td>0</td>\n",
       "      <td>1</td>\n",
       "      <td>0</td>\n",
       "      <td>0</td>\n",
       "      <td>0</td>\n",
       "      <td>1</td>\n",
       "      <td>0</td>\n",
       "      <td>...</td>\n",
       "      <td>0</td>\n",
       "      <td>1</td>\n",
       "      <td>0</td>\n",
       "      <td>1</td>\n",
       "      <td>0</td>\n",
       "      <td>1</td>\n",
       "      <td>1</td>\n",
       "      <td>0</td>\n",
       "      <td>1</td>\n",
       "      <td>0</td>\n",
       "    </tr>\n",
       "  </tbody>\n",
       "</table>\n",
       "<p>10 rows × 21 columns</p>\n",
       "</div>"
      ],
      "text/plain": [
       "        age    income  children  gender_FEMALE  gender_MALE  \\\n",
       "0  0.612245  0.215634  0.333333              1            0   \n",
       "1  0.448980  0.431395  1.000000              0            1   \n",
       "2  0.673469  0.198933  0.000000              1            0   \n",
       "3  0.102041  0.264320  1.000000              1            0   \n",
       "4  0.795918  0.783987  0.000000              1            0   \n",
       "5  0.795918  0.565343  0.666667              1            0   \n",
       "6  0.081633  0.066468  0.000000              0            1   \n",
       "7  0.816327  0.342977  0.000000              0            1   \n",
       "8  0.387755  0.349132  0.666667              1            0   \n",
       "9  0.734694  0.330338  0.666667              0            1   \n",
       "\n",
       "   region_INNER_CITY  region_RURAL  region_SUBURBAN  region_TOWN  married_NO  \\\n",
       "0                  1             0                0            0           1   \n",
       "1                  0             0                0            1           0   \n",
       "2                  1             0                0            0           0   \n",
       "3                  0             0                0            1           0   \n",
       "4                  0             1                0            0           0   \n",
       "5                  0             0                0            1           0   \n",
       "6                  0             1                0            0           1   \n",
       "7                  0             0                0            1           0   \n",
       "8                  0             0                1            0           0   \n",
       "9                  0             0                0            1           0   \n",
       "\n",
       "   ...  car_NO  car_YES  savings_acct_NO  savings_acct_YES  current_acct_NO  \\\n",
       "0  ...       1        0                1                 0                1   \n",
       "1  ...       0        1                1                 0                0   \n",
       "2  ...       0        1                0                 1                0   \n",
       "3  ...       1        0                1                 0                0   \n",
       "4  ...       1        0                0                 1                1   \n",
       "5  ...       1        0                0                 1                0   \n",
       "6  ...       1        0                1                 0                0   \n",
       "7  ...       0        1                0                 1                0   \n",
       "8  ...       0        1                1                 0                1   \n",
       "9  ...       0        1                0                 1                0   \n",
       "\n",
       "   current_acct_YES  mortgage_NO  mortgage_YES  pep_NO  pep_YES  \n",
       "0                 0            1             0       0        1  \n",
       "1                 1            0             1       1        0  \n",
       "2                 1            1             0       1        0  \n",
       "3                 1            1             0       1        0  \n",
       "4                 0            1             0       1        0  \n",
       "5                 1            1             0       0        1  \n",
       "6                 1            1             0       0        1  \n",
       "7                 1            1             0       1        0  \n",
       "8                 0            1             0       1        0  \n",
       "9                 1            1             0       1        0  \n",
       "\n",
       "[10 rows x 21 columns]"
      ]
     },
     "execution_count": 36,
     "metadata": {},
     "output_type": "execute_result"
    }
   ],
   "source": [
    "pop_numeric = pd.get_dummies(pop2_df)\n",
    "pop_numeric.head(10)"
   ]
  },
  {
   "cell_type": "code",
   "execution_count": 37,
   "metadata": {},
   "outputs": [],
   "source": [
    "bank_numeric = pop_numeric\n",
    "bank_numeric.to_csv(\"bank_numeric.csv\", float_format=\"%1.2f\")"
   ]
  },
  {
   "cell_type": "markdown",
   "metadata": {},
   "source": [
    "Q7) Correlation analysis"
   ]
  },
  {
   "cell_type": "code",
   "execution_count": 38,
   "metadata": {},
   "outputs": [
    {
     "data": {
      "text/html": [
       "<div>\n",
       "<style scoped>\n",
       "    .dataframe tbody tr th:only-of-type {\n",
       "        vertical-align: middle;\n",
       "    }\n",
       "\n",
       "    .dataframe tbody tr th {\n",
       "        vertical-align: top;\n",
       "    }\n",
       "\n",
       "    .dataframe thead th {\n",
       "        text-align: right;\n",
       "    }\n",
       "</style>\n",
       "<table border=\"1\" class=\"dataframe\">\n",
       "  <thead>\n",
       "    <tr style=\"text-align: right;\">\n",
       "      <th></th>\n",
       "      <th>age</th>\n",
       "      <th>income</th>\n",
       "      <th>children</th>\n",
       "      <th>gender_FEMALE</th>\n",
       "      <th>gender_MALE</th>\n",
       "      <th>region_INNER_CITY</th>\n",
       "      <th>region_RURAL</th>\n",
       "      <th>region_SUBURBAN</th>\n",
       "      <th>region_TOWN</th>\n",
       "      <th>married_NO</th>\n",
       "      <th>...</th>\n",
       "      <th>car_NO</th>\n",
       "      <th>car_YES</th>\n",
       "      <th>savings_acct_NO</th>\n",
       "      <th>savings_acct_YES</th>\n",
       "      <th>current_acct_NO</th>\n",
       "      <th>current_acct_YES</th>\n",
       "      <th>mortgage_NO</th>\n",
       "      <th>mortgage_YES</th>\n",
       "      <th>pep_NO</th>\n",
       "      <th>pep_YES</th>\n",
       "    </tr>\n",
       "  </thead>\n",
       "  <tbody>\n",
       "    <tr>\n",
       "      <th>age</th>\n",
       "      <td>1.000000</td>\n",
       "      <td>0.752726</td>\n",
       "      <td>0.023572</td>\n",
       "      <td>0.090081</td>\n",
       "      <td>-0.090081</td>\n",
       "      <td>-0.025171</td>\n",
       "      <td>0.018635</td>\n",
       "      <td>0.031345</td>\n",
       "      <td>-0.008510</td>\n",
       "      <td>-0.010394</td>\n",
       "      <td>...</td>\n",
       "      <td>-0.077733</td>\n",
       "      <td>0.077733</td>\n",
       "      <td>-0.184389</td>\n",
       "      <td>0.184389</td>\n",
       "      <td>0.035312</td>\n",
       "      <td>-0.035312</td>\n",
       "      <td>0.016154</td>\n",
       "      <td>-0.016154</td>\n",
       "      <td>-0.173825</td>\n",
       "      <td>0.173825</td>\n",
       "    </tr>\n",
       "    <tr>\n",
       "      <th>income</th>\n",
       "      <td>0.752726</td>\n",
       "      <td>1.000000</td>\n",
       "      <td>0.036761</td>\n",
       "      <td>0.023845</td>\n",
       "      <td>-0.023845</td>\n",
       "      <td>-0.047564</td>\n",
       "      <td>0.084776</td>\n",
       "      <td>0.029824</td>\n",
       "      <td>-0.036431</td>\n",
       "      <td>0.008386</td>\n",
       "      <td>...</td>\n",
       "      <td>-0.081556</td>\n",
       "      <td>0.081556</td>\n",
       "      <td>-0.266164</td>\n",
       "      <td>0.266164</td>\n",
       "      <td>-0.031616</td>\n",
       "      <td>0.031616</td>\n",
       "      <td>0.014662</td>\n",
       "      <td>-0.014662</td>\n",
       "      <td>-0.221991</td>\n",
       "      <td>0.221991</td>\n",
       "    </tr>\n",
       "    <tr>\n",
       "      <th>children</th>\n",
       "      <td>0.023572</td>\n",
       "      <td>0.036761</td>\n",
       "      <td>1.000000</td>\n",
       "      <td>0.014206</td>\n",
       "      <td>-0.014206</td>\n",
       "      <td>-0.051222</td>\n",
       "      <td>0.089902</td>\n",
       "      <td>-0.014122</td>\n",
       "      <td>-0.007033</td>\n",
       "      <td>0.048716</td>\n",
       "      <td>...</td>\n",
       "      <td>-0.036455</td>\n",
       "      <td>0.036455</td>\n",
       "      <td>-0.041536</td>\n",
       "      <td>0.041536</td>\n",
       "      <td>-0.006238</td>\n",
       "      <td>0.006238</td>\n",
       "      <td>0.074339</td>\n",
       "      <td>-0.074339</td>\n",
       "      <td>0.057663</td>\n",
       "      <td>-0.057663</td>\n",
       "    </tr>\n",
       "    <tr>\n",
       "      <th>gender_FEMALE</th>\n",
       "      <td>0.090081</td>\n",
       "      <td>0.023845</td>\n",
       "      <td>0.014206</td>\n",
       "      <td>1.000000</td>\n",
       "      <td>-1.000000</td>\n",
       "      <td>-0.023459</td>\n",
       "      <td>-0.009092</td>\n",
       "      <td>-0.010951</td>\n",
       "      <td>0.040472</td>\n",
       "      <td>0.021110</td>\n",
       "      <td>...</td>\n",
       "      <td>0.006667</td>\n",
       "      <td>-0.006667</td>\n",
       "      <td>0.007207</td>\n",
       "      <td>-0.007207</td>\n",
       "      <td>-0.019466</td>\n",
       "      <td>0.019466</td>\n",
       "      <td>0.066465</td>\n",
       "      <td>-0.066465</td>\n",
       "      <td>0.046843</td>\n",
       "      <td>-0.046843</td>\n",
       "    </tr>\n",
       "    <tr>\n",
       "      <th>gender_MALE</th>\n",
       "      <td>-0.090081</td>\n",
       "      <td>-0.023845</td>\n",
       "      <td>-0.014206</td>\n",
       "      <td>-1.000000</td>\n",
       "      <td>1.000000</td>\n",
       "      <td>0.023459</td>\n",
       "      <td>0.009092</td>\n",
       "      <td>0.010951</td>\n",
       "      <td>-0.040472</td>\n",
       "      <td>-0.021110</td>\n",
       "      <td>...</td>\n",
       "      <td>-0.006667</td>\n",
       "      <td>0.006667</td>\n",
       "      <td>-0.007207</td>\n",
       "      <td>0.007207</td>\n",
       "      <td>0.019466</td>\n",
       "      <td>-0.019466</td>\n",
       "      <td>-0.066465</td>\n",
       "      <td>0.066465</td>\n",
       "      <td>-0.046843</td>\n",
       "      <td>0.046843</td>\n",
       "    </tr>\n",
       "    <tr>\n",
       "      <th>region_INNER_CITY</th>\n",
       "      <td>-0.025171</td>\n",
       "      <td>-0.047564</td>\n",
       "      <td>-0.051222</td>\n",
       "      <td>-0.023459</td>\n",
       "      <td>0.023459</td>\n",
       "      <td>1.000000</td>\n",
       "      <td>-0.393444</td>\n",
       "      <td>-0.306032</td>\n",
       "      <td>-0.573814</td>\n",
       "      <td>-0.003254</td>\n",
       "      <td>...</td>\n",
       "      <td>0.018143</td>\n",
       "      <td>-0.018143</td>\n",
       "      <td>0.091373</td>\n",
       "      <td>-0.091373</td>\n",
       "      <td>-0.007894</td>\n",
       "      <td>0.007894</td>\n",
       "      <td>-0.002098</td>\n",
       "      <td>0.002098</td>\n",
       "      <td>-0.001054</td>\n",
       "      <td>0.001054</td>\n",
       "    </tr>\n",
       "    <tr>\n",
       "      <th>region_RURAL</th>\n",
       "      <td>0.018635</td>\n",
       "      <td>0.084776</td>\n",
       "      <td>0.089902</td>\n",
       "      <td>-0.009092</td>\n",
       "      <td>0.009092</td>\n",
       "      <td>-0.393444</td>\n",
       "      <td>1.000000</td>\n",
       "      <td>-0.148158</td>\n",
       "      <td>-0.277798</td>\n",
       "      <td>0.022649</td>\n",
       "      <td>...</td>\n",
       "      <td>-0.024006</td>\n",
       "      <td>0.024006</td>\n",
       "      <td>-0.036960</td>\n",
       "      <td>0.036960</td>\n",
       "      <td>0.008496</td>\n",
       "      <td>-0.008496</td>\n",
       "      <td>0.051908</td>\n",
       "      <td>-0.051908</td>\n",
       "      <td>-0.019714</td>\n",
       "      <td>0.019714</td>\n",
       "    </tr>\n",
       "    <tr>\n",
       "      <th>region_SUBURBAN</th>\n",
       "      <td>0.031345</td>\n",
       "      <td>0.029824</td>\n",
       "      <td>-0.014122</td>\n",
       "      <td>-0.010951</td>\n",
       "      <td>0.010951</td>\n",
       "      <td>-0.306032</td>\n",
       "      <td>-0.148158</td>\n",
       "      <td>1.000000</td>\n",
       "      <td>-0.216080</td>\n",
       "      <td>-0.012483</td>\n",
       "      <td>...</td>\n",
       "      <td>0.061184</td>\n",
       "      <td>-0.061184</td>\n",
       "      <td>-0.002605</td>\n",
       "      <td>0.002605</td>\n",
       "      <td>-0.038157</td>\n",
       "      <td>0.038157</td>\n",
       "      <td>-0.004635</td>\n",
       "      <td>0.004635</td>\n",
       "      <td>-0.062508</td>\n",
       "      <td>0.062508</td>\n",
       "    </tr>\n",
       "    <tr>\n",
       "      <th>region_TOWN</th>\n",
       "      <td>-0.008510</td>\n",
       "      <td>-0.036431</td>\n",
       "      <td>-0.007033</td>\n",
       "      <td>0.040472</td>\n",
       "      <td>-0.040472</td>\n",
       "      <td>-0.573814</td>\n",
       "      <td>-0.277798</td>\n",
       "      <td>-0.216080</td>\n",
       "      <td>1.000000</td>\n",
       "      <td>-0.006369</td>\n",
       "      <td>...</td>\n",
       "      <td>-0.041604</td>\n",
       "      <td>0.041604</td>\n",
       "      <td>-0.068654</td>\n",
       "      <td>0.068654</td>\n",
       "      <td>0.027431</td>\n",
       "      <td>-0.027431</td>\n",
       "      <td>-0.036591</td>\n",
       "      <td>0.036591</td>\n",
       "      <td>0.059115</td>\n",
       "      <td>-0.059115</td>\n",
       "    </tr>\n",
       "    <tr>\n",
       "      <th>married_NO</th>\n",
       "      <td>-0.010394</td>\n",
       "      <td>0.008386</td>\n",
       "      <td>0.048716</td>\n",
       "      <td>0.021110</td>\n",
       "      <td>-0.021110</td>\n",
       "      <td>-0.003254</td>\n",
       "      <td>0.022649</td>\n",
       "      <td>-0.012483</td>\n",
       "      <td>-0.006369</td>\n",
       "      <td>1.000000</td>\n",
       "      <td>...</td>\n",
       "      <td>-0.009571</td>\n",
       "      <td>0.009571</td>\n",
       "      <td>0.028604</td>\n",
       "      <td>-0.028604</td>\n",
       "      <td>-0.059996</td>\n",
       "      <td>0.059996</td>\n",
       "      <td>-0.021711</td>\n",
       "      <td>0.021711</td>\n",
       "      <td>-0.189578</td>\n",
       "      <td>0.189578</td>\n",
       "    </tr>\n",
       "    <tr>\n",
       "      <th>married_YES</th>\n",
       "      <td>0.010394</td>\n",
       "      <td>-0.008386</td>\n",
       "      <td>-0.048716</td>\n",
       "      <td>-0.021110</td>\n",
       "      <td>0.021110</td>\n",
       "      <td>0.003254</td>\n",
       "      <td>-0.022649</td>\n",
       "      <td>0.012483</td>\n",
       "      <td>0.006369</td>\n",
       "      <td>-1.000000</td>\n",
       "      <td>...</td>\n",
       "      <td>0.009571</td>\n",
       "      <td>-0.009571</td>\n",
       "      <td>-0.028604</td>\n",
       "      <td>0.028604</td>\n",
       "      <td>0.059996</td>\n",
       "      <td>-0.059996</td>\n",
       "      <td>0.021711</td>\n",
       "      <td>-0.021711</td>\n",
       "      <td>0.189578</td>\n",
       "      <td>-0.189578</td>\n",
       "    </tr>\n",
       "    <tr>\n",
       "      <th>car_NO</th>\n",
       "      <td>-0.077733</td>\n",
       "      <td>-0.081556</td>\n",
       "      <td>-0.036455</td>\n",
       "      <td>0.006667</td>\n",
       "      <td>-0.006667</td>\n",
       "      <td>0.018143</td>\n",
       "      <td>-0.024006</td>\n",
       "      <td>0.061184</td>\n",
       "      <td>-0.041604</td>\n",
       "      <td>-0.009571</td>\n",
       "      <td>...</td>\n",
       "      <td>1.000000</td>\n",
       "      <td>-1.000000</td>\n",
       "      <td>0.034310</td>\n",
       "      <td>-0.034310</td>\n",
       "      <td>-0.034783</td>\n",
       "      <td>0.034783</td>\n",
       "      <td>-0.007743</td>\n",
       "      <td>0.007743</td>\n",
       "      <td>0.018917</td>\n",
       "      <td>-0.018917</td>\n",
       "    </tr>\n",
       "    <tr>\n",
       "      <th>car_YES</th>\n",
       "      <td>0.077733</td>\n",
       "      <td>0.081556</td>\n",
       "      <td>0.036455</td>\n",
       "      <td>-0.006667</td>\n",
       "      <td>0.006667</td>\n",
       "      <td>-0.018143</td>\n",
       "      <td>0.024006</td>\n",
       "      <td>-0.061184</td>\n",
       "      <td>0.041604</td>\n",
       "      <td>0.009571</td>\n",
       "      <td>...</td>\n",
       "      <td>-1.000000</td>\n",
       "      <td>1.000000</td>\n",
       "      <td>-0.034310</td>\n",
       "      <td>0.034310</td>\n",
       "      <td>0.034783</td>\n",
       "      <td>-0.034783</td>\n",
       "      <td>0.007743</td>\n",
       "      <td>-0.007743</td>\n",
       "      <td>-0.018917</td>\n",
       "      <td>0.018917</td>\n",
       "    </tr>\n",
       "    <tr>\n",
       "      <th>savings_acct_NO</th>\n",
       "      <td>-0.184389</td>\n",
       "      <td>-0.266164</td>\n",
       "      <td>-0.041536</td>\n",
       "      <td>0.007207</td>\n",
       "      <td>-0.007207</td>\n",
       "      <td>0.091373</td>\n",
       "      <td>-0.036960</td>\n",
       "      <td>-0.002605</td>\n",
       "      <td>-0.068654</td>\n",
       "      <td>0.028604</td>\n",
       "      <td>...</td>\n",
       "      <td>0.034310</td>\n",
       "      <td>-0.034310</td>\n",
       "      <td>1.000000</td>\n",
       "      <td>-1.000000</td>\n",
       "      <td>0.042511</td>\n",
       "      <td>-0.042511</td>\n",
       "      <td>-0.001588</td>\n",
       "      <td>0.001588</td>\n",
       "      <td>-0.072779</td>\n",
       "      <td>0.072779</td>\n",
       "    </tr>\n",
       "    <tr>\n",
       "      <th>savings_acct_YES</th>\n",
       "      <td>0.184389</td>\n",
       "      <td>0.266164</td>\n",
       "      <td>0.041536</td>\n",
       "      <td>-0.007207</td>\n",
       "      <td>0.007207</td>\n",
       "      <td>-0.091373</td>\n",
       "      <td>0.036960</td>\n",
       "      <td>0.002605</td>\n",
       "      <td>0.068654</td>\n",
       "      <td>-0.028604</td>\n",
       "      <td>...</td>\n",
       "      <td>-0.034310</td>\n",
       "      <td>0.034310</td>\n",
       "      <td>-1.000000</td>\n",
       "      <td>1.000000</td>\n",
       "      <td>-0.042511</td>\n",
       "      <td>0.042511</td>\n",
       "      <td>0.001588</td>\n",
       "      <td>-0.001588</td>\n",
       "      <td>0.072779</td>\n",
       "      <td>-0.072779</td>\n",
       "    </tr>\n",
       "    <tr>\n",
       "      <th>current_acct_NO</th>\n",
       "      <td>0.035312</td>\n",
       "      <td>-0.031616</td>\n",
       "      <td>-0.006238</td>\n",
       "      <td>-0.019466</td>\n",
       "      <td>0.019466</td>\n",
       "      <td>-0.007894</td>\n",
       "      <td>0.008496</td>\n",
       "      <td>-0.038157</td>\n",
       "      <td>0.027431</td>\n",
       "      <td>-0.059996</td>\n",
       "      <td>...</td>\n",
       "      <td>-0.034783</td>\n",
       "      <td>0.034783</td>\n",
       "      <td>0.042511</td>\n",
       "      <td>-0.042511</td>\n",
       "      <td>1.000000</td>\n",
       "      <td>-1.000000</td>\n",
       "      <td>-0.036704</td>\n",
       "      <td>0.036704</td>\n",
       "      <td>0.025141</td>\n",
       "      <td>-0.025141</td>\n",
       "    </tr>\n",
       "    <tr>\n",
       "      <th>current_acct_YES</th>\n",
       "      <td>-0.035312</td>\n",
       "      <td>0.031616</td>\n",
       "      <td>0.006238</td>\n",
       "      <td>0.019466</td>\n",
       "      <td>-0.019466</td>\n",
       "      <td>0.007894</td>\n",
       "      <td>-0.008496</td>\n",
       "      <td>0.038157</td>\n",
       "      <td>-0.027431</td>\n",
       "      <td>0.059996</td>\n",
       "      <td>...</td>\n",
       "      <td>0.034783</td>\n",
       "      <td>-0.034783</td>\n",
       "      <td>-0.042511</td>\n",
       "      <td>0.042511</td>\n",
       "      <td>-1.000000</td>\n",
       "      <td>1.000000</td>\n",
       "      <td>0.036704</td>\n",
       "      <td>-0.036704</td>\n",
       "      <td>-0.025141</td>\n",
       "      <td>0.025141</td>\n",
       "    </tr>\n",
       "    <tr>\n",
       "      <th>mortgage_NO</th>\n",
       "      <td>0.016154</td>\n",
       "      <td>0.014662</td>\n",
       "      <td>0.074339</td>\n",
       "      <td>0.066465</td>\n",
       "      <td>-0.066465</td>\n",
       "      <td>-0.002098</td>\n",
       "      <td>0.051908</td>\n",
       "      <td>-0.004635</td>\n",
       "      <td>-0.036591</td>\n",
       "      <td>-0.021711</td>\n",
       "      <td>...</td>\n",
       "      <td>-0.007743</td>\n",
       "      <td>0.007743</td>\n",
       "      <td>-0.001588</td>\n",
       "      <td>0.001588</td>\n",
       "      <td>-0.036704</td>\n",
       "      <td>0.036704</td>\n",
       "      <td>1.000000</td>\n",
       "      <td>-1.000000</td>\n",
       "      <td>-0.024182</td>\n",
       "      <td>0.024182</td>\n",
       "    </tr>\n",
       "    <tr>\n",
       "      <th>mortgage_YES</th>\n",
       "      <td>-0.016154</td>\n",
       "      <td>-0.014662</td>\n",
       "      <td>-0.074339</td>\n",
       "      <td>-0.066465</td>\n",
       "      <td>0.066465</td>\n",
       "      <td>0.002098</td>\n",
       "      <td>-0.051908</td>\n",
       "      <td>0.004635</td>\n",
       "      <td>0.036591</td>\n",
       "      <td>0.021711</td>\n",
       "      <td>...</td>\n",
       "      <td>0.007743</td>\n",
       "      <td>-0.007743</td>\n",
       "      <td>0.001588</td>\n",
       "      <td>-0.001588</td>\n",
       "      <td>0.036704</td>\n",
       "      <td>-0.036704</td>\n",
       "      <td>-1.000000</td>\n",
       "      <td>1.000000</td>\n",
       "      <td>0.024182</td>\n",
       "      <td>-0.024182</td>\n",
       "    </tr>\n",
       "    <tr>\n",
       "      <th>pep_NO</th>\n",
       "      <td>-0.173825</td>\n",
       "      <td>-0.221991</td>\n",
       "      <td>0.057663</td>\n",
       "      <td>0.046843</td>\n",
       "      <td>-0.046843</td>\n",
       "      <td>-0.001054</td>\n",
       "      <td>-0.019714</td>\n",
       "      <td>-0.062508</td>\n",
       "      <td>0.059115</td>\n",
       "      <td>-0.189578</td>\n",
       "      <td>...</td>\n",
       "      <td>0.018917</td>\n",
       "      <td>-0.018917</td>\n",
       "      <td>-0.072779</td>\n",
       "      <td>0.072779</td>\n",
       "      <td>0.025141</td>\n",
       "      <td>-0.025141</td>\n",
       "      <td>-0.024182</td>\n",
       "      <td>0.024182</td>\n",
       "      <td>1.000000</td>\n",
       "      <td>-1.000000</td>\n",
       "    </tr>\n",
       "    <tr>\n",
       "      <th>pep_YES</th>\n",
       "      <td>0.173825</td>\n",
       "      <td>0.221991</td>\n",
       "      <td>-0.057663</td>\n",
       "      <td>-0.046843</td>\n",
       "      <td>0.046843</td>\n",
       "      <td>0.001054</td>\n",
       "      <td>0.019714</td>\n",
       "      <td>0.062508</td>\n",
       "      <td>-0.059115</td>\n",
       "      <td>0.189578</td>\n",
       "      <td>...</td>\n",
       "      <td>-0.018917</td>\n",
       "      <td>0.018917</td>\n",
       "      <td>0.072779</td>\n",
       "      <td>-0.072779</td>\n",
       "      <td>-0.025141</td>\n",
       "      <td>0.025141</td>\n",
       "      <td>0.024182</td>\n",
       "      <td>-0.024182</td>\n",
       "      <td>-1.000000</td>\n",
       "      <td>1.000000</td>\n",
       "    </tr>\n",
       "  </tbody>\n",
       "</table>\n",
       "<p>21 rows × 21 columns</p>\n",
       "</div>"
      ],
      "text/plain": [
       "                        age    income  children  gender_FEMALE  gender_MALE  \\\n",
       "age                1.000000  0.752726  0.023572       0.090081    -0.090081   \n",
       "income             0.752726  1.000000  0.036761       0.023845    -0.023845   \n",
       "children           0.023572  0.036761  1.000000       0.014206    -0.014206   \n",
       "gender_FEMALE      0.090081  0.023845  0.014206       1.000000    -1.000000   \n",
       "gender_MALE       -0.090081 -0.023845 -0.014206      -1.000000     1.000000   \n",
       "region_INNER_CITY -0.025171 -0.047564 -0.051222      -0.023459     0.023459   \n",
       "region_RURAL       0.018635  0.084776  0.089902      -0.009092     0.009092   \n",
       "region_SUBURBAN    0.031345  0.029824 -0.014122      -0.010951     0.010951   \n",
       "region_TOWN       -0.008510 -0.036431 -0.007033       0.040472    -0.040472   \n",
       "married_NO        -0.010394  0.008386  0.048716       0.021110    -0.021110   \n",
       "married_YES        0.010394 -0.008386 -0.048716      -0.021110     0.021110   \n",
       "car_NO            -0.077733 -0.081556 -0.036455       0.006667    -0.006667   \n",
       "car_YES            0.077733  0.081556  0.036455      -0.006667     0.006667   \n",
       "savings_acct_NO   -0.184389 -0.266164 -0.041536       0.007207    -0.007207   \n",
       "savings_acct_YES   0.184389  0.266164  0.041536      -0.007207     0.007207   \n",
       "current_acct_NO    0.035312 -0.031616 -0.006238      -0.019466     0.019466   \n",
       "current_acct_YES  -0.035312  0.031616  0.006238       0.019466    -0.019466   \n",
       "mortgage_NO        0.016154  0.014662  0.074339       0.066465    -0.066465   \n",
       "mortgage_YES      -0.016154 -0.014662 -0.074339      -0.066465     0.066465   \n",
       "pep_NO            -0.173825 -0.221991  0.057663       0.046843    -0.046843   \n",
       "pep_YES            0.173825  0.221991 -0.057663      -0.046843     0.046843   \n",
       "\n",
       "                   region_INNER_CITY  region_RURAL  region_SUBURBAN  \\\n",
       "age                        -0.025171      0.018635         0.031345   \n",
       "income                     -0.047564      0.084776         0.029824   \n",
       "children                   -0.051222      0.089902        -0.014122   \n",
       "gender_FEMALE              -0.023459     -0.009092        -0.010951   \n",
       "gender_MALE                 0.023459      0.009092         0.010951   \n",
       "region_INNER_CITY           1.000000     -0.393444        -0.306032   \n",
       "region_RURAL               -0.393444      1.000000        -0.148158   \n",
       "region_SUBURBAN            -0.306032     -0.148158         1.000000   \n",
       "region_TOWN                -0.573814     -0.277798        -0.216080   \n",
       "married_NO                 -0.003254      0.022649        -0.012483   \n",
       "married_YES                 0.003254     -0.022649         0.012483   \n",
       "car_NO                      0.018143     -0.024006         0.061184   \n",
       "car_YES                    -0.018143      0.024006        -0.061184   \n",
       "savings_acct_NO             0.091373     -0.036960        -0.002605   \n",
       "savings_acct_YES           -0.091373      0.036960         0.002605   \n",
       "current_acct_NO            -0.007894      0.008496        -0.038157   \n",
       "current_acct_YES            0.007894     -0.008496         0.038157   \n",
       "mortgage_NO                -0.002098      0.051908        -0.004635   \n",
       "mortgage_YES                0.002098     -0.051908         0.004635   \n",
       "pep_NO                     -0.001054     -0.019714        -0.062508   \n",
       "pep_YES                     0.001054      0.019714         0.062508   \n",
       "\n",
       "                   region_TOWN  married_NO  ...    car_NO   car_YES  \\\n",
       "age                  -0.008510   -0.010394  ... -0.077733  0.077733   \n",
       "income               -0.036431    0.008386  ... -0.081556  0.081556   \n",
       "children             -0.007033    0.048716  ... -0.036455  0.036455   \n",
       "gender_FEMALE         0.040472    0.021110  ...  0.006667 -0.006667   \n",
       "gender_MALE          -0.040472   -0.021110  ... -0.006667  0.006667   \n",
       "region_INNER_CITY    -0.573814   -0.003254  ...  0.018143 -0.018143   \n",
       "region_RURAL         -0.277798    0.022649  ... -0.024006  0.024006   \n",
       "region_SUBURBAN      -0.216080   -0.012483  ...  0.061184 -0.061184   \n",
       "region_TOWN           1.000000   -0.006369  ... -0.041604  0.041604   \n",
       "married_NO           -0.006369    1.000000  ... -0.009571  0.009571   \n",
       "married_YES           0.006369   -1.000000  ...  0.009571 -0.009571   \n",
       "car_NO               -0.041604   -0.009571  ...  1.000000 -1.000000   \n",
       "car_YES               0.041604    0.009571  ... -1.000000  1.000000   \n",
       "savings_acct_NO      -0.068654    0.028604  ...  0.034310 -0.034310   \n",
       "savings_acct_YES      0.068654   -0.028604  ... -0.034310  0.034310   \n",
       "current_acct_NO       0.027431   -0.059996  ... -0.034783  0.034783   \n",
       "current_acct_YES     -0.027431    0.059996  ...  0.034783 -0.034783   \n",
       "mortgage_NO          -0.036591   -0.021711  ... -0.007743  0.007743   \n",
       "mortgage_YES          0.036591    0.021711  ...  0.007743 -0.007743   \n",
       "pep_NO                0.059115   -0.189578  ...  0.018917 -0.018917   \n",
       "pep_YES              -0.059115    0.189578  ... -0.018917  0.018917   \n",
       "\n",
       "                   savings_acct_NO  savings_acct_YES  current_acct_NO  \\\n",
       "age                      -0.184389          0.184389         0.035312   \n",
       "income                   -0.266164          0.266164        -0.031616   \n",
       "children                 -0.041536          0.041536        -0.006238   \n",
       "gender_FEMALE             0.007207         -0.007207        -0.019466   \n",
       "gender_MALE              -0.007207          0.007207         0.019466   \n",
       "region_INNER_CITY         0.091373         -0.091373        -0.007894   \n",
       "region_RURAL             -0.036960          0.036960         0.008496   \n",
       "region_SUBURBAN          -0.002605          0.002605        -0.038157   \n",
       "region_TOWN              -0.068654          0.068654         0.027431   \n",
       "married_NO                0.028604         -0.028604        -0.059996   \n",
       "married_YES              -0.028604          0.028604         0.059996   \n",
       "car_NO                    0.034310         -0.034310        -0.034783   \n",
       "car_YES                  -0.034310          0.034310         0.034783   \n",
       "savings_acct_NO           1.000000         -1.000000         0.042511   \n",
       "savings_acct_YES         -1.000000          1.000000        -0.042511   \n",
       "current_acct_NO           0.042511         -0.042511         1.000000   \n",
       "current_acct_YES         -0.042511          0.042511        -1.000000   \n",
       "mortgage_NO              -0.001588          0.001588        -0.036704   \n",
       "mortgage_YES              0.001588         -0.001588         0.036704   \n",
       "pep_NO                   -0.072779          0.072779         0.025141   \n",
       "pep_YES                   0.072779         -0.072779        -0.025141   \n",
       "\n",
       "                   current_acct_YES  mortgage_NO  mortgage_YES    pep_NO  \\\n",
       "age                       -0.035312     0.016154     -0.016154 -0.173825   \n",
       "income                     0.031616     0.014662     -0.014662 -0.221991   \n",
       "children                   0.006238     0.074339     -0.074339  0.057663   \n",
       "gender_FEMALE              0.019466     0.066465     -0.066465  0.046843   \n",
       "gender_MALE               -0.019466    -0.066465      0.066465 -0.046843   \n",
       "region_INNER_CITY          0.007894    -0.002098      0.002098 -0.001054   \n",
       "region_RURAL              -0.008496     0.051908     -0.051908 -0.019714   \n",
       "region_SUBURBAN            0.038157    -0.004635      0.004635 -0.062508   \n",
       "region_TOWN               -0.027431    -0.036591      0.036591  0.059115   \n",
       "married_NO                 0.059996    -0.021711      0.021711 -0.189578   \n",
       "married_YES               -0.059996     0.021711     -0.021711  0.189578   \n",
       "car_NO                     0.034783    -0.007743      0.007743  0.018917   \n",
       "car_YES                   -0.034783     0.007743     -0.007743 -0.018917   \n",
       "savings_acct_NO           -0.042511    -0.001588      0.001588 -0.072779   \n",
       "savings_acct_YES           0.042511     0.001588     -0.001588  0.072779   \n",
       "current_acct_NO           -1.000000    -0.036704      0.036704  0.025141   \n",
       "current_acct_YES           1.000000     0.036704     -0.036704 -0.025141   \n",
       "mortgage_NO                0.036704     1.000000     -1.000000 -0.024182   \n",
       "mortgage_YES              -0.036704    -1.000000      1.000000  0.024182   \n",
       "pep_NO                    -0.025141    -0.024182      0.024182  1.000000   \n",
       "pep_YES                    0.025141     0.024182     -0.024182 -1.000000   \n",
       "\n",
       "                    pep_YES  \n",
       "age                0.173825  \n",
       "income             0.221991  \n",
       "children          -0.057663  \n",
       "gender_FEMALE     -0.046843  \n",
       "gender_MALE        0.046843  \n",
       "region_INNER_CITY  0.001054  \n",
       "region_RURAL       0.019714  \n",
       "region_SUBURBAN    0.062508  \n",
       "region_TOWN       -0.059115  \n",
       "married_NO         0.189578  \n",
       "married_YES       -0.189578  \n",
       "car_NO            -0.018917  \n",
       "car_YES            0.018917  \n",
       "savings_acct_NO    0.072779  \n",
       "savings_acct_YES  -0.072779  \n",
       "current_acct_NO   -0.025141  \n",
       "current_acct_YES   0.025141  \n",
       "mortgage_NO        0.024182  \n",
       "mortgage_YES      -0.024182  \n",
       "pep_NO            -1.000000  \n",
       "pep_YES            1.000000  \n",
       "\n",
       "[21 rows x 21 columns]"
      ]
     },
     "execution_count": 38,
     "metadata": {},
     "output_type": "execute_result"
    }
   ],
   "source": [
    "pop_numeric.corr()"
   ]
  },
  {
   "cell_type": "markdown",
   "metadata": {},
   "source": [
    "Q8) Scatter plot"
   ]
  },
  {
   "cell_type": "code",
   "execution_count": 39,
   "metadata": {},
   "outputs": [
    {
     "data": {
      "text/plain": [
       "<matplotlib.axes._subplots.AxesSubplot at 0x9b74430>"
      ]
     },
     "execution_count": 39,
     "metadata": {},
     "output_type": "execute_result"
    },
    {
     "data": {
      "image/png": "[encoded data removed]",
      "text/plain": [
       "<Figure size 432x288 with 1 Axes>"
      ]
     },
     "metadata": {
      "needs_background": "light"
     },
     "output_type": "display_data"
    }
   ],
   "source": [
    "pop_df.plot(x = 'age', y = 'income', kind = 'scatter')"
   ]
  },
  {
   "cell_type": "markdown",
   "metadata": {},
   "source": [
    "Yes, they are positively correlated."
   ]
  },
  {
   "cell_type": "markdown",
   "metadata": {},
   "source": [
    "Q9) Histogram"
   ]
  },
  {
   "cell_type": "code",
   "execution_count": 40,
   "metadata": {},
   "outputs": [
    {
     "data": {
      "text/plain": [
       "(array([ 54., 138., 139., 101.,  68.,  44.,  36.,  20.]),\n",
       " array([0.   , 0.125, 0.25 , 0.375, 0.5  , 0.625, 0.75 , 0.875, 1.   ]),\n",
       " <a list of 8 Patch objects>)"
      ]
     },
     "execution_count": 40,
     "metadata": {},
     "output_type": "execute_result"
    },
    {
     "data": {
      "image/png": "[encoded data removed]",
      "text/plain": [
       "<Figure size 432x288 with 1 Axes>"
      ]
     },
     "metadata": {
      "needs_background": "light"
     },
     "output_type": "display_data"
    }
   ],
   "source": [
    "plt.hist(pop_df['income'], bins=8)"
   ]
  },
  {
   "cell_type": "code",
   "execution_count": 42,
   "metadata": {},
   "outputs": [
    {
     "data": {
      "text/plain": [
       "(array([45., 42., 39., 40., 29., 42., 44., 53., 40., 35., 30., 34., 37.,\n",
       "        35., 55.]),\n",
       " array([0.        , 0.06666667, 0.13333333, 0.2       , 0.26666667,\n",
       "        0.33333333, 0.4       , 0.46666667, 0.53333333, 0.6       ,\n",
       "        0.66666667, 0.73333333, 0.8       , 0.86666667, 0.93333333,\n",
       "        1.        ]),\n",
       " <a list of 15 Patch objects>)"
      ]
     },
     "execution_count": 42,
     "metadata": {},
     "output_type": "execute_result"
    },
    {
     "data": {
      "image/png": "[encoded data removed]",
      "text/plain": [
       "<Figure size 432x288 with 1 Axes>"
      ]
     },
     "metadata": {
      "needs_background": "light"
     },
     "output_type": "display_data"
    }
   ],
   "source": [
    "plt.hist(pop_df['age'], bins=15)"
   ]
  },
  {
   "cell_type": "markdown",
   "metadata": {},
   "source": [
    "Q10) Region bar plot"
   ]
  },
  {
   "cell_type": "code",
   "execution_count": 44,
   "metadata": {},
   "outputs": [
    {
     "data": {
      "text/plain": [
       "<matplotlib.axes._subplots.AxesSubplot at 0x9c88f70>"
      ]
     },
     "execution_count": 44,
     "metadata": {},
     "output_type": "execute_result"
    },
    {
     "data": {
      "image/png": "[encoded data removed]",
      "text/plain": [
       "<Figure size 432x288 with 1 Axes>"
      ]
     },
     "metadata": {
      "needs_background": "light"
     },
     "output_type": "display_data"
    }
   ],
   "source": [
    "pop2_df['region'].value_counts().plot(kind='bar')"
   ]
  },
  {
   "cell_type": "markdown",
   "metadata": {},
   "source": [
    "Q11) cross tab"
   ]
  },
  {
   "cell_type": "code",
   "execution_count": 47,
   "metadata": {},
   "outputs": [
    {
     "data": {
      "text/html": [
       "<div>\n",
       "<style scoped>\n",
       "    .dataframe tbody tr th:only-of-type {\n",
       "        vertical-align: middle;\n",
       "    }\n",
       "\n",
       "    .dataframe tbody tr th {\n",
       "        vertical-align: top;\n",
       "    }\n",
       "\n",
       "    .dataframe thead th {\n",
       "        text-align: right;\n",
       "    }\n",
       "</style>\n",
       "<table border=\"1\" class=\"dataframe\">\n",
       "  <thead>\n",
       "    <tr style=\"text-align: right;\">\n",
       "      <th>pep</th>\n",
       "      <th>NO</th>\n",
       "      <th>YES</th>\n",
       "    </tr>\n",
       "    <tr>\n",
       "      <th>region</th>\n",
       "      <th></th>\n",
       "      <th></th>\n",
       "    </tr>\n",
       "  </thead>\n",
       "  <tbody>\n",
       "    <tr>\n",
       "      <th>INNER_CITY</th>\n",
       "      <td>146</td>\n",
       "      <td>123</td>\n",
       "    </tr>\n",
       "    <tr>\n",
       "      <th>RURAL</th>\n",
       "      <td>50</td>\n",
       "      <td>46</td>\n",
       "    </tr>\n",
       "    <tr>\n",
       "      <th>SUBURBAN</th>\n",
       "      <td>28</td>\n",
       "      <td>34</td>\n",
       "    </tr>\n",
       "    <tr>\n",
       "      <th>TOWN</th>\n",
       "      <td>102</td>\n",
       "      <td>71</td>\n",
       "    </tr>\n",
       "  </tbody>\n",
       "</table>\n",
       "</div>"
      ],
      "text/plain": [
       "pep          NO  YES\n",
       "region              \n",
       "INNER_CITY  146  123\n",
       "RURAL        50   46\n",
       "SUBURBAN     28   34\n",
       "TOWN        102   71"
      ]
     },
     "execution_count": 47,
     "metadata": {},
     "output_type": "execute_result"
    }
   ],
   "source": [
    "pop_cross = pd.crosstab(pop2_df['region'], pop2_df['pep'])\n",
    "pop_cross"
   ]
  },
  {
   "cell_type": "code",
   "execution_count": null,
   "metadata": {},
   "outputs": [],
   "source": []
  }
 ],
 "metadata": {
  "kernelspec": {
   "display_name": "Python 3",
   "language": "python",
   "name": "python3"
  },
  "language_info": {
   "codemirror_mode": {
    "name": "ipython",
    "version": 3
   },
   "file_extension": ".py",
   "mimetype": "text/x-python",
   "name": "python",
   "nbconvert_exporter": "python",
   "pygments_lexer": "ipython3",
   "version": "3.7.3"
  }
 },
 "nbformat": 4,
 "nbformat_minor": 2
}
