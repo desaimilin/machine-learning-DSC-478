{
 "cells": [
  {
   "cell_type": "markdown",
   "metadata": {},
   "source": [
    "# 2. Clusturing"
   ]
  },
  {
   "cell_type": "markdown",
   "metadata": {},
   "source": [
    "### a)"
   ]
  },
  {
   "cell_type": "code",
   "execution_count": 1,
   "metadata": {},
   "outputs": [],
   "source": [
    "import pandas as pd\n",
    "import numpy as np\n",
    "from sklearn.model_selection import train_test_split\n",
    "\n",
    "\n",
    "def cos_similarity(xbar, ybar):\n",
    "    \"\"\"\n",
    "    Finding the K nearest neighbors\n",
    "    \"\"\"\n",
    "    D_hat = np.linalg.norm(xbar)\n",
    "    x_hat = np.linalg.norm(ybar)\n",
    "    \n",
    "    similarity = np.dot(xbar,ybar)/(D_hat * x_hat)\n",
    "    distance = 1 - similarity\n",
    "\n",
    "    return distance"
   ]
  },
  {
   "cell_type": "code",
   "execution_count": 2,
   "metadata": {},
   "outputs": [
    {
     "data": {
      "text/plain": [
       "'C:\\\\Users\\\\Milin Desai'"
      ]
     },
     "execution_count": 2,
     "metadata": {},
     "output_type": "execute_result"
    }
   ],
   "source": [
    "pwd"
   ]
  },
  {
   "cell_type": "markdown",
   "metadata": {},
   "source": [
    "#### B) Data Importing"
   ]
  },
  {
   "cell_type": "code",
   "execution_count": 3,
   "metadata": {},
   "outputs": [],
   "source": [
    "matrix = pd.read_csv(r'C:\\Users\\Milin Desai\\Downloads\\newsgroups5/matrix.txt', header = None)\n",
    "classes = pd.read_csv(r'C:\\Users\\Milin Desai\\Downloads\\newsgroups5/classes.txt', delim_whitespace=1, index_col = 0)\n",
    "terms = pd.read_csv(r'C:\\Users\\Milin Desai\\Downloads\\newsgroups5/terms.txt', header = None)"
   ]
  },
  {
   "cell_type": "markdown",
   "metadata": {},
   "source": [
    "Using Transpose"
   ]
  },
  {
   "cell_type": "code",
   "execution_count": 4,
   "metadata": {},
   "outputs": [],
   "source": [
    "news_groups = matrix.T "
   ]
  },
  {
   "cell_type": "code",
   "execution_count": 5,
   "metadata": {},
   "outputs": [
    {
     "data": {
      "text/plain": [
       "(9328, 2500)"
      ]
     },
     "execution_count": 5,
     "metadata": {},
     "output_type": "execute_result"
    }
   ],
   "source": [
    "matrix.shape"
   ]
  },
  {
   "cell_type": "code",
   "execution_count": 6,
   "metadata": {},
   "outputs": [
    {
     "data": {
      "text/plain": [
       "(2500, 12)"
      ]
     },
     "execution_count": 6,
     "metadata": {},
     "output_type": "execute_result"
    }
   ],
   "source": [
    "classes.shape"
   ]
  },
  {
   "cell_type": "code",
   "execution_count": 7,
   "metadata": {},
   "outputs": [
    {
     "data": {
      "text/plain": [
       "(9328, 1)"
      ]
     },
     "execution_count": 7,
     "metadata": {},
     "output_type": "execute_result"
    }
   ],
   "source": [
    "terms.shape"
   ]
  },
  {
   "cell_type": "code",
   "execution_count": 8,
   "metadata": {},
   "outputs": [
    {
     "data": {
      "text/html": [
       "<div>\n",
       "<style scoped>\n",
       "    .dataframe tbody tr th:only-of-type {\n",
       "        vertical-align: middle;\n",
       "    }\n",
       "\n",
       "    .dataframe tbody tr th {\n",
       "        vertical-align: top;\n",
       "    }\n",
       "\n",
       "    .dataframe thead th {\n",
       "        text-align: right;\n",
       "    }\n",
       "</style>\n",
       "<table border=\"1\" class=\"dataframe\">\n",
       "  <thead>\n",
       "    <tr style=\"text-align: right;\">\n",
       "      <th></th>\n",
       "      <th>0</th>\n",
       "    </tr>\n",
       "  </thead>\n",
       "  <tbody>\n",
       "    <tr>\n",
       "      <td>0</td>\n",
       "      <td>aa</td>\n",
       "    </tr>\n",
       "    <tr>\n",
       "      <td>1</td>\n",
       "      <td>aargh</td>\n",
       "    </tr>\n",
       "    <tr>\n",
       "      <td>2</td>\n",
       "      <td>aaron</td>\n",
       "    </tr>\n",
       "    <tr>\n",
       "      <td>3</td>\n",
       "      <td>aaronc</td>\n",
       "    </tr>\n",
       "    <tr>\n",
       "      <td>4</td>\n",
       "      <td>ab</td>\n",
       "    </tr>\n",
       "  </tbody>\n",
       "</table>\n",
       "</div>"
      ],
      "text/plain": [
       "        0\n",
       "0      aa\n",
       "1   aargh\n",
       "2   aaron\n",
       "3  aaronc\n",
       "4      ab"
      ]
     },
     "execution_count": 8,
     "metadata": {},
     "output_type": "execute_result"
    }
   ],
   "source": [
    "terms.head(5)"
   ]
  },
  {
   "cell_type": "code",
   "execution_count": 9,
   "metadata": {},
   "outputs": [
    {
     "data": {
      "text/html": [
       "<div>\n",
       "<style scoped>\n",
       "    .dataframe tbody tr th:only-of-type {\n",
       "        vertical-align: middle;\n",
       "    }\n",
       "\n",
       "    .dataframe tbody tr th {\n",
       "        vertical-align: top;\n",
       "    }\n",
       "\n",
       "    .dataframe thead th {\n",
       "        text-align: right;\n",
       "    }\n",
       "</style>\n",
       "<table border=\"1\" class=\"dataframe\">\n",
       "  <thead>\n",
       "    <tr style=\"text-align: right;\">\n",
       "      <th></th>\n",
       "      <th>0</th>\n",
       "      <th>1</th>\n",
       "      <th>2</th>\n",
       "      <th>3</th>\n",
       "      <th>4</th>\n",
       "      <th>5</th>\n",
       "      <th>6</th>\n",
       "      <th>7</th>\n",
       "      <th>8</th>\n",
       "      <th>9</th>\n",
       "      <th>...</th>\n",
       "      <th>2490</th>\n",
       "      <th>2491</th>\n",
       "      <th>2492</th>\n",
       "      <th>2493</th>\n",
       "      <th>2494</th>\n",
       "      <th>2495</th>\n",
       "      <th>2496</th>\n",
       "      <th>2497</th>\n",
       "      <th>2498</th>\n",
       "      <th>2499</th>\n",
       "    </tr>\n",
       "  </thead>\n",
       "  <tbody>\n",
       "    <tr>\n",
       "      <td>0</td>\n",
       "      <td>0</td>\n",
       "      <td>0</td>\n",
       "      <td>0</td>\n",
       "      <td>0</td>\n",
       "      <td>0</td>\n",
       "      <td>0</td>\n",
       "      <td>0</td>\n",
       "      <td>0</td>\n",
       "      <td>0</td>\n",
       "      <td>0</td>\n",
       "      <td>...</td>\n",
       "      <td>0</td>\n",
       "      <td>0</td>\n",
       "      <td>0</td>\n",
       "      <td>0</td>\n",
       "      <td>0</td>\n",
       "      <td>0</td>\n",
       "      <td>0</td>\n",
       "      <td>0</td>\n",
       "      <td>0</td>\n",
       "      <td>0</td>\n",
       "    </tr>\n",
       "    <tr>\n",
       "      <td>1</td>\n",
       "      <td>0</td>\n",
       "      <td>0</td>\n",
       "      <td>0</td>\n",
       "      <td>0</td>\n",
       "      <td>0</td>\n",
       "      <td>0</td>\n",
       "      <td>0</td>\n",
       "      <td>0</td>\n",
       "      <td>0</td>\n",
       "      <td>0</td>\n",
       "      <td>...</td>\n",
       "      <td>0</td>\n",
       "      <td>0</td>\n",
       "      <td>0</td>\n",
       "      <td>0</td>\n",
       "      <td>0</td>\n",
       "      <td>0</td>\n",
       "      <td>0</td>\n",
       "      <td>0</td>\n",
       "      <td>0</td>\n",
       "      <td>0</td>\n",
       "    </tr>\n",
       "    <tr>\n",
       "      <td>2</td>\n",
       "      <td>0</td>\n",
       "      <td>0</td>\n",
       "      <td>0</td>\n",
       "      <td>0</td>\n",
       "      <td>0</td>\n",
       "      <td>0</td>\n",
       "      <td>0</td>\n",
       "      <td>0</td>\n",
       "      <td>0</td>\n",
       "      <td>0</td>\n",
       "      <td>...</td>\n",
       "      <td>0</td>\n",
       "      <td>0</td>\n",
       "      <td>0</td>\n",
       "      <td>0</td>\n",
       "      <td>0</td>\n",
       "      <td>0</td>\n",
       "      <td>0</td>\n",
       "      <td>0</td>\n",
       "      <td>0</td>\n",
       "      <td>0</td>\n",
       "    </tr>\n",
       "    <tr>\n",
       "      <td>3</td>\n",
       "      <td>0</td>\n",
       "      <td>0</td>\n",
       "      <td>0</td>\n",
       "      <td>0</td>\n",
       "      <td>0</td>\n",
       "      <td>0</td>\n",
       "      <td>0</td>\n",
       "      <td>0</td>\n",
       "      <td>0</td>\n",
       "      <td>0</td>\n",
       "      <td>...</td>\n",
       "      <td>0</td>\n",
       "      <td>0</td>\n",
       "      <td>0</td>\n",
       "      <td>0</td>\n",
       "      <td>0</td>\n",
       "      <td>0</td>\n",
       "      <td>0</td>\n",
       "      <td>0</td>\n",
       "      <td>0</td>\n",
       "      <td>0</td>\n",
       "    </tr>\n",
       "    <tr>\n",
       "      <td>4</td>\n",
       "      <td>0</td>\n",
       "      <td>0</td>\n",
       "      <td>0</td>\n",
       "      <td>0</td>\n",
       "      <td>0</td>\n",
       "      <td>0</td>\n",
       "      <td>0</td>\n",
       "      <td>0</td>\n",
       "      <td>0</td>\n",
       "      <td>0</td>\n",
       "      <td>...</td>\n",
       "      <td>0</td>\n",
       "      <td>0</td>\n",
       "      <td>0</td>\n",
       "      <td>0</td>\n",
       "      <td>0</td>\n",
       "      <td>0</td>\n",
       "      <td>0</td>\n",
       "      <td>0</td>\n",
       "      <td>0</td>\n",
       "      <td>0</td>\n",
       "    </tr>\n",
       "  </tbody>\n",
       "</table>\n",
       "<p>5 rows × 2500 columns</p>\n",
       "</div>"
      ],
      "text/plain": [
       "   0     1     2     3     4     5     6     7     8     9     ...  2490  \\\n",
       "0     0     0     0     0     0     0     0     0     0     0  ...     0   \n",
       "1     0     0     0     0     0     0     0     0     0     0  ...     0   \n",
       "2     0     0     0     0     0     0     0     0     0     0  ...     0   \n",
       "3     0     0     0     0     0     0     0     0     0     0  ...     0   \n",
       "4     0     0     0     0     0     0     0     0     0     0  ...     0   \n",
       "\n",
       "   2491  2492  2493  2494  2495  2496  2497  2498  2499  \n",
       "0     0     0     0     0     0     0     0     0     0  \n",
       "1     0     0     0     0     0     0     0     0     0  \n",
       "2     0     0     0     0     0     0     0     0     0  \n",
       "3     0     0     0     0     0     0     0     0     0  \n",
       "4     0     0     0     0     0     0     0     0     0  \n",
       "\n",
       "[5 rows x 2500 columns]"
      ]
     },
     "execution_count": 9,
     "metadata": {},
     "output_type": "execute_result"
    }
   ],
   "source": [
    "matrix.head(5)"
   ]
  },
  {
   "cell_type": "code",
   "execution_count": 10,
   "metadata": {},
   "outputs": [
    {
     "data": {
      "text/html": [
       "<div>\n",
       "<style scoped>\n",
       "    .dataframe tbody tr th:only-of-type {\n",
       "        vertical-align: middle;\n",
       "    }\n",
       "\n",
       "    .dataframe tbody tr th {\n",
       "        vertical-align: top;\n",
       "    }\n",
       "\n",
       "    .dataframe thead th {\n",
       "        text-align: right;\n",
       "    }\n",
       "</style>\n",
       "<table border=\"1\" class=\"dataframe\">\n",
       "  <thead>\n",
       "    <tr style=\"text-align: right;\">\n",
       "      <th></th>\n",
       "      <th>Five</th>\n",
       "      <th>Categories:</th>\n",
       "      <th>windows</th>\n",
       "      <th>(0),</th>\n",
       "      <th>crypt</th>\n",
       "      <th>(1),</th>\n",
       "      <th>christian</th>\n",
       "      <th>(2),</th>\n",
       "      <th>hockey</th>\n",
       "      <th>(3),</th>\n",
       "      <th>forsale</th>\n",
       "      <th>(4)</th>\n",
       "    </tr>\n",
       "    <tr>\n",
       "      <th>%</th>\n",
       "      <th></th>\n",
       "      <th></th>\n",
       "      <th></th>\n",
       "      <th></th>\n",
       "      <th></th>\n",
       "      <th></th>\n",
       "      <th></th>\n",
       "      <th></th>\n",
       "      <th></th>\n",
       "      <th></th>\n",
       "      <th></th>\n",
       "      <th></th>\n",
       "    </tr>\n",
       "  </thead>\n",
       "  <tbody>\n",
       "    <tr>\n",
       "      <td>0</td>\n",
       "      <td>0</td>\n",
       "      <td>NaN</td>\n",
       "      <td>NaN</td>\n",
       "      <td>NaN</td>\n",
       "      <td>NaN</td>\n",
       "      <td>NaN</td>\n",
       "      <td>NaN</td>\n",
       "      <td>NaN</td>\n",
       "      <td>NaN</td>\n",
       "      <td>NaN</td>\n",
       "      <td>NaN</td>\n",
       "      <td>NaN</td>\n",
       "    </tr>\n",
       "    <tr>\n",
       "      <td>1</td>\n",
       "      <td>1</td>\n",
       "      <td>NaN</td>\n",
       "      <td>NaN</td>\n",
       "      <td>NaN</td>\n",
       "      <td>NaN</td>\n",
       "      <td>NaN</td>\n",
       "      <td>NaN</td>\n",
       "      <td>NaN</td>\n",
       "      <td>NaN</td>\n",
       "      <td>NaN</td>\n",
       "      <td>NaN</td>\n",
       "      <td>NaN</td>\n",
       "    </tr>\n",
       "    <tr>\n",
       "      <td>2</td>\n",
       "      <td>1</td>\n",
       "      <td>NaN</td>\n",
       "      <td>NaN</td>\n",
       "      <td>NaN</td>\n",
       "      <td>NaN</td>\n",
       "      <td>NaN</td>\n",
       "      <td>NaN</td>\n",
       "      <td>NaN</td>\n",
       "      <td>NaN</td>\n",
       "      <td>NaN</td>\n",
       "      <td>NaN</td>\n",
       "      <td>NaN</td>\n",
       "    </tr>\n",
       "    <tr>\n",
       "      <td>3</td>\n",
       "      <td>1</td>\n",
       "      <td>NaN</td>\n",
       "      <td>NaN</td>\n",
       "      <td>NaN</td>\n",
       "      <td>NaN</td>\n",
       "      <td>NaN</td>\n",
       "      <td>NaN</td>\n",
       "      <td>NaN</td>\n",
       "      <td>NaN</td>\n",
       "      <td>NaN</td>\n",
       "      <td>NaN</td>\n",
       "      <td>NaN</td>\n",
       "    </tr>\n",
       "    <tr>\n",
       "      <td>4</td>\n",
       "      <td>2</td>\n",
       "      <td>NaN</td>\n",
       "      <td>NaN</td>\n",
       "      <td>NaN</td>\n",
       "      <td>NaN</td>\n",
       "      <td>NaN</td>\n",
       "      <td>NaN</td>\n",
       "      <td>NaN</td>\n",
       "      <td>NaN</td>\n",
       "      <td>NaN</td>\n",
       "      <td>NaN</td>\n",
       "      <td>NaN</td>\n",
       "    </tr>\n",
       "  </tbody>\n",
       "</table>\n",
       "</div>"
      ],
      "text/plain": [
       "   Five  Categories:  windows  (0),  crypt  (1),  christian  (2),  hockey  \\\n",
       "%                                                                           \n",
       "0     0          NaN      NaN   NaN    NaN   NaN        NaN   NaN     NaN   \n",
       "1     1          NaN      NaN   NaN    NaN   NaN        NaN   NaN     NaN   \n",
       "2     1          NaN      NaN   NaN    NaN   NaN        NaN   NaN     NaN   \n",
       "3     1          NaN      NaN   NaN    NaN   NaN        NaN   NaN     NaN   \n",
       "4     2          NaN      NaN   NaN    NaN   NaN        NaN   NaN     NaN   \n",
       "\n",
       "   (3),  forsale  (4)  \n",
       "%                      \n",
       "0   NaN      NaN  NaN  \n",
       "1   NaN      NaN  NaN  \n",
       "2   NaN      NaN  NaN  \n",
       "3   NaN      NaN  NaN  \n",
       "4   NaN      NaN  NaN  "
      ]
     },
     "execution_count": 10,
     "metadata": {},
     "output_type": "execute_result"
    }
   ],
   "source": [
    "classes.head(5)"
   ]
  },
  {
   "cell_type": "markdown",
   "metadata": {},
   "source": [
    "We need to correctly formate the news group data set"
   ]
  },
  {
   "cell_type": "code",
   "execution_count": 11,
   "metadata": {},
   "outputs": [],
   "source": [
    "classes = classes.iloc[:, :1] "
   ]
  },
  {
   "cell_type": "code",
   "execution_count": 12,
   "metadata": {},
   "outputs": [
    {
     "data": {
      "text/html": [
       "<div>\n",
       "<style scoped>\n",
       "    .dataframe tbody tr th:only-of-type {\n",
       "        vertical-align: middle;\n",
       "    }\n",
       "\n",
       "    .dataframe tbody tr th {\n",
       "        vertical-align: top;\n",
       "    }\n",
       "\n",
       "    .dataframe thead th {\n",
       "        text-align: right;\n",
       "    }\n",
       "</style>\n",
       "<table border=\"1\" class=\"dataframe\">\n",
       "  <thead>\n",
       "    <tr style=\"text-align: right;\">\n",
       "      <th></th>\n",
       "      <th>Five</th>\n",
       "    </tr>\n",
       "    <tr>\n",
       "      <th>%</th>\n",
       "      <th></th>\n",
       "    </tr>\n",
       "  </thead>\n",
       "  <tbody>\n",
       "    <tr>\n",
       "      <td>0</td>\n",
       "      <td>0</td>\n",
       "    </tr>\n",
       "    <tr>\n",
       "      <td>1</td>\n",
       "      <td>1</td>\n",
       "    </tr>\n",
       "    <tr>\n",
       "      <td>2</td>\n",
       "      <td>1</td>\n",
       "    </tr>\n",
       "    <tr>\n",
       "      <td>3</td>\n",
       "      <td>1</td>\n",
       "    </tr>\n",
       "    <tr>\n",
       "      <td>4</td>\n",
       "      <td>2</td>\n",
       "    </tr>\n",
       "  </tbody>\n",
       "</table>\n",
       "</div>"
      ],
      "text/plain": [
       "   Five\n",
       "%      \n",
       "0     0\n",
       "1     1\n",
       "2     1\n",
       "3     1\n",
       "4     2"
      ]
     },
     "execution_count": 12,
     "metadata": {},
     "output_type": "execute_result"
    }
   ],
   "source": [
    "classes.head(5)"
   ]
  },
  {
   "cell_type": "code",
   "execution_count": 13,
   "metadata": {},
   "outputs": [],
   "source": [
    "matrix = matrix.iloc[:, :1] "
   ]
  },
  {
   "cell_type": "code",
   "execution_count": 14,
   "metadata": {},
   "outputs": [
    {
     "data": {
      "text/html": [
       "<div>\n",
       "<style scoped>\n",
       "    .dataframe tbody tr th:only-of-type {\n",
       "        vertical-align: middle;\n",
       "    }\n",
       "\n",
       "    .dataframe tbody tr th {\n",
       "        vertical-align: top;\n",
       "    }\n",
       "\n",
       "    .dataframe thead th {\n",
       "        text-align: right;\n",
       "    }\n",
       "</style>\n",
       "<table border=\"1\" class=\"dataframe\">\n",
       "  <thead>\n",
       "    <tr style=\"text-align: right;\">\n",
       "      <th></th>\n",
       "      <th>0</th>\n",
       "    </tr>\n",
       "  </thead>\n",
       "  <tbody>\n",
       "    <tr>\n",
       "      <td>0</td>\n",
       "      <td>0</td>\n",
       "    </tr>\n",
       "    <tr>\n",
       "      <td>1</td>\n",
       "      <td>0</td>\n",
       "    </tr>\n",
       "    <tr>\n",
       "      <td>2</td>\n",
       "      <td>0</td>\n",
       "    </tr>\n",
       "    <tr>\n",
       "      <td>3</td>\n",
       "      <td>0</td>\n",
       "    </tr>\n",
       "    <tr>\n",
       "      <td>4</td>\n",
       "      <td>0</td>\n",
       "    </tr>\n",
       "  </tbody>\n",
       "</table>\n",
       "</div>"
      ],
      "text/plain": [
       "   0\n",
       "0  0\n",
       "1  0\n",
       "2  0\n",
       "3  0\n",
       "4  0"
      ]
     },
     "execution_count": 14,
     "metadata": {},
     "output_type": "execute_result"
    }
   ],
   "source": [
    "matrix.head(5)"
   ]
  },
  {
   "cell_type": "code",
   "execution_count": 15,
   "metadata": {},
   "outputs": [],
   "source": [
    "terms = terms.iloc[:, :1]"
   ]
  },
  {
   "cell_type": "code",
   "execution_count": 16,
   "metadata": {},
   "outputs": [
    {
     "data": {
      "text/html": [
       "<div>\n",
       "<style scoped>\n",
       "    .dataframe tbody tr th:only-of-type {\n",
       "        vertical-align: middle;\n",
       "    }\n",
       "\n",
       "    .dataframe tbody tr th {\n",
       "        vertical-align: top;\n",
       "    }\n",
       "\n",
       "    .dataframe thead th {\n",
       "        text-align: right;\n",
       "    }\n",
       "</style>\n",
       "<table border=\"1\" class=\"dataframe\">\n",
       "  <thead>\n",
       "    <tr style=\"text-align: right;\">\n",
       "      <th></th>\n",
       "      <th>0</th>\n",
       "    </tr>\n",
       "  </thead>\n",
       "  <tbody>\n",
       "    <tr>\n",
       "      <td>0</td>\n",
       "      <td>aa</td>\n",
       "    </tr>\n",
       "    <tr>\n",
       "      <td>1</td>\n",
       "      <td>aargh</td>\n",
       "    </tr>\n",
       "    <tr>\n",
       "      <td>2</td>\n",
       "      <td>aaron</td>\n",
       "    </tr>\n",
       "    <tr>\n",
       "      <td>3</td>\n",
       "      <td>aaronc</td>\n",
       "    </tr>\n",
       "    <tr>\n",
       "      <td>4</td>\n",
       "      <td>ab</td>\n",
       "    </tr>\n",
       "  </tbody>\n",
       "</table>\n",
       "</div>"
      ],
      "text/plain": [
       "        0\n",
       "0      aa\n",
       "1   aargh\n",
       "2   aaron\n",
       "3  aaronc\n",
       "4      ab"
      ]
     },
     "execution_count": 16,
     "metadata": {},
     "output_type": "execute_result"
    }
   ],
   "source": [
    "terms.head(5)"
   ]
  },
  {
   "cell_type": "code",
   "execution_count": 17,
   "metadata": {},
   "outputs": [],
   "source": [
    "classes.rename(columns = {'Five':'Subset of five categories: windows (0), crypt (1), christian (2), hockey (3), forsale (4)'}, inplace = True)           "
   ]
  },
  {
   "cell_type": "code",
   "execution_count": 18,
   "metadata": {},
   "outputs": [
    {
     "data": {
      "text/html": [
       "<div>\n",
       "<style scoped>\n",
       "    .dataframe tbody tr th:only-of-type {\n",
       "        vertical-align: middle;\n",
       "    }\n",
       "\n",
       "    .dataframe tbody tr th {\n",
       "        vertical-align: top;\n",
       "    }\n",
       "\n",
       "    .dataframe thead th {\n",
       "        text-align: right;\n",
       "    }\n",
       "</style>\n",
       "<table border=\"1\" class=\"dataframe\">\n",
       "  <thead>\n",
       "    <tr style=\"text-align: right;\">\n",
       "      <th></th>\n",
       "      <th>Subset of five categories: windows (0), crypt (1), christian (2), hockey (3), forsale (4)</th>\n",
       "    </tr>\n",
       "    <tr>\n",
       "      <th>%</th>\n",
       "      <th></th>\n",
       "    </tr>\n",
       "  </thead>\n",
       "  <tbody>\n",
       "    <tr>\n",
       "      <td>0</td>\n",
       "      <td>0</td>\n",
       "    </tr>\n",
       "    <tr>\n",
       "      <td>1</td>\n",
       "      <td>1</td>\n",
       "    </tr>\n",
       "    <tr>\n",
       "      <td>2</td>\n",
       "      <td>1</td>\n",
       "    </tr>\n",
       "    <tr>\n",
       "      <td>3</td>\n",
       "      <td>1</td>\n",
       "    </tr>\n",
       "    <tr>\n",
       "      <td>4</td>\n",
       "      <td>2</td>\n",
       "    </tr>\n",
       "  </tbody>\n",
       "</table>\n",
       "</div>"
      ],
      "text/plain": [
       "   Subset of five categories: windows (0), crypt (1), christian (2), hockey (3), forsale (4)\n",
       "%                                                                                           \n",
       "0                                                  0                                        \n",
       "1                                                  1                                        \n",
       "2                                                  1                                        \n",
       "3                                                  1                                        \n",
       "4                                                  2                                        "
      ]
     },
     "execution_count": 18,
     "metadata": {},
     "output_type": "execute_result"
    }
   ],
   "source": [
    "classes.head(5)"
   ]
  },
  {
   "cell_type": "markdown",
   "metadata": {},
   "source": [
    "Data splitting 80/20"
   ]
  },
  {
   "cell_type": "code",
   "execution_count": 19,
   "metadata": {},
   "outputs": [],
   "source": [
    "classes_arr = np.array(classes)"
   ]
  },
  {
   "cell_type": "code",
   "execution_count": 20,
   "metadata": {},
   "outputs": [],
   "source": [
    "dt_tr, dt_ts, lab_dttr, lab_dtts = train_test_split(news_groups, classes, test_size=0.2, random_state = 42)"
   ]
  },
  {
   "cell_type": "code",
   "execution_count": 21,
   "metadata": {},
   "outputs": [
    {
     "name": "stdout",
     "output_type": "stream",
     "text": [
      "(2000, 9328)\n"
     ]
    }
   ],
   "source": [
    "print(dt_tr.shape)"
   ]
  },
  {
   "cell_type": "code",
   "execution_count": 22,
   "metadata": {},
   "outputs": [
    {
     "name": "stdout",
     "output_type": "stream",
     "text": [
      "(500, 9328)\n"
     ]
    }
   ],
   "source": [
    "print(dt_ts.shape)"
   ]
  },
  {
   "cell_type": "code",
   "execution_count": 23,
   "metadata": {},
   "outputs": [
    {
     "name": "stdout",
     "output_type": "stream",
     "text": [
      "(2000, 1)\n"
     ]
    }
   ],
   "source": [
    "print(lab_dttr.shape)"
   ]
  },
  {
   "cell_type": "code",
   "execution_count": 24,
   "metadata": {},
   "outputs": [
    {
     "name": "stdout",
     "output_type": "stream",
     "text": [
      "(500, 1)\n"
     ]
    }
   ],
   "source": [
    "print(lab_dtts.shape)"
   ]
  },
  {
   "cell_type": "markdown",
   "metadata": {},
   "source": [
    "D)"
   ]
  },
  {
   "cell_type": "code",
   "execution_count": 25,
   "metadata": {},
   "outputs": [],
   "source": [
    "from sklearn.metrics import completeness_score, homogeneity_score"
   ]
  },
  {
   "cell_type": "code",
   "execution_count": 26,
   "metadata": {},
   "outputs": [],
   "source": [
    "np_dt_tr = np.array(dt_tr)"
   ]
  },
  {
   "cell_type": "code",
   "execution_count": 27,
   "metadata": {},
   "outputs": [],
   "source": [
    "import kMeans"
   ]
  },
  {
   "cell_type": "code",
   "execution_count": 28,
   "metadata": {},
   "outputs": [],
   "source": [
    "cosine_centroids, cosine_clusters = kMeans.kMeans(np_dt_tr, 5, cos_similarity, kMeans.randCent)"
   ]
  },
  {
   "cell_type": "code",
   "execution_count": 29,
   "metadata": {},
   "outputs": [],
   "source": [
    "cosine_clusters = pd.DataFrame(cosine_clusters, columns = ['Cluster', 'MinDistance**3'])\n",
    "cosine_centroids = pd.DataFrame(cosine_centroids, columns=terms[0])"
   ]
  },
  {
   "cell_type": "code",
   "execution_count": 30,
   "metadata": {},
   "outputs": [
    {
     "name": "stdout",
     "output_type": "stream",
     "text": [
      "(6, 2)\n"
     ]
    }
   ],
   "source": [
    "print(cosine_clusters.loc[cosine_clusters.Cluster == 4.0].shape)"
   ]
  },
  {
   "cell_type": "code",
   "execution_count": 31,
   "metadata": {},
   "outputs": [
    {
     "name": "stdout",
     "output_type": "stream",
     "text": [
      "(0, 2)\n"
     ]
    }
   ],
   "source": [
    "print(cosine_clusters.loc[cosine_clusters.Cluster == 3.0].shape)"
   ]
  },
  {
   "cell_type": "code",
   "execution_count": 32,
   "metadata": {},
   "outputs": [
    {
     "name": "stdout",
     "output_type": "stream",
     "text": [
      "(773, 2)\n"
     ]
    }
   ],
   "source": [
    "print(cosine_clusters.loc[cosine_clusters.Cluster == 2.0].shape)"
   ]
  },
  {
   "cell_type": "code",
   "execution_count": 33,
   "metadata": {},
   "outputs": [
    {
     "name": "stdout",
     "output_type": "stream",
     "text": [
      "(0, 2)\n"
     ]
    }
   ],
   "source": [
    "print(cosine_clusters.loc[cosine_clusters.Cluster == 1.0].shape)"
   ]
  },
  {
   "cell_type": "code",
   "execution_count": 34,
   "metadata": {},
   "outputs": [
    {
     "name": "stdout",
     "output_type": "stream",
     "text": [
      "      Cluster  MinDistance**3\n",
      "0         0.0        0.440426\n",
      "1         0.0        0.600493\n",
      "2         0.0        0.676524\n",
      "3         0.0        0.523850\n",
      "4         0.0        0.558270\n",
      "...       ...             ...\n",
      "1991      0.0        0.529930\n",
      "1993      0.0        0.588171\n",
      "1994      0.0        0.621447\n",
      "1995      0.0        0.544612\n",
      "1999      0.0        0.694517\n",
      "\n",
      "[1221 rows x 2 columns]\n"
     ]
    }
   ],
   "source": [
    "print(cosine_clusters.loc[cosine_clusters.Cluster == 0.0])"
   ]
  },
  {
   "cell_type": "code",
   "execution_count": 35,
   "metadata": {},
   "outputs": [],
   "source": [
    "lab_dttr.reset_index(drop = True, inplace = True)"
   ]
  },
  {
   "cell_type": "code",
   "execution_count": 36,
   "metadata": {},
   "outputs": [
    {
     "name": "stdout",
     "output_type": "stream",
     "text": [
      "(2000,) (2000,)\n"
     ]
    }
   ],
   "source": [
    "L_target = np.array(lab_dttr.iloc[:, 0])\n",
    "forcast = np.array(cosine_clusters.Cluster)\n",
    "print(forcast.shape, L_target.shape)"
   ]
  },
  {
   "cell_type": "code",
   "execution_count": 37,
   "metadata": {},
   "outputs": [
    {
     "data": {
      "text/plain": [
       "array([0, 2, 2, ..., 3, 4, 0], dtype=int64)"
      ]
     },
     "execution_count": 37,
     "metadata": {},
     "output_type": "execute_result"
    }
   ],
   "source": [
    "L_target"
   ]
  },
  {
   "cell_type": "code",
   "execution_count": 38,
   "metadata": {},
   "outputs": [
    {
     "data": {
      "text/plain": [
       "0.3081642870028716"
      ]
     },
     "execution_count": 38,
     "metadata": {},
     "output_type": "execute_result"
    }
   ],
   "source": [
    "homogeneity_score(L_target, forcast)"
   ]
  },
  {
   "cell_type": "code",
   "execution_count": 39,
   "metadata": {},
   "outputs": [
    {
     "data": {
      "text/plain": [
       "0.7226989536670834"
      ]
     },
     "execution_count": 39,
     "metadata": {},
     "output_type": "execute_result"
    }
   ],
   "source": [
    "completeness_score(L_target, forcast)"
   ]
  },
  {
   "cell_type": "markdown",
   "metadata": {},
   "source": [
    "### E)"
   ]
  },
  {
   "cell_type": "code",
   "execution_count": 41,
   "metadata": {},
   "outputs": [],
   "source": [
    "def Cluster_pulse(xbar, ybar):\n",
    "    \"\"\" find K nearest neighbors of an instance x among the instances in D \"\"\"\n",
    "    \n",
    "    D_hat = np.linalg.norm(xbar)\n",
    "    x_hat = np.linalg.norm(ybar)\n",
    "    \n",
    "    similarity = np.dot(xbar,ybar)/(D_hat * x_hat)\n",
    "    distance = 1 - similarity\n",
    "    \n",
    "    idx = np.argsort(distance) # sorting\n",
    "    # return the indexes of K nearest neighbors\n",
    "    return idx[0], max(similarity)\n",
    "cluster_centroids = np.array(cosine_centroids)"
   ]
  },
  {
   "cell_type": "code",
   "execution_count": 42,
   "metadata": {},
   "outputs": [],
   "source": [
    "xbar = np.array(cosine_centroids)"
   ]
  },
  {
   "cell_type": "code",
   "execution_count": 43,
   "metadata": {},
   "outputs": [],
   "source": [
    "np_dt_ts = np.array(dt_ts)"
   ]
  },
  {
   "cell_type": "code",
   "execution_count": 44,
   "metadata": {},
   "outputs": [],
   "source": [
    "forcast_ts_class = []"
   ]
  },
  {
   "cell_type": "code",
   "execution_count": 45,
   "metadata": {},
   "outputs": [
    {
     "name": "stdout",
     "output_type": "stream",
     "text": [
      "0           3              0.001842    \n",
      "1           3              0.004029    \n",
      "2           1              0.002492    \n",
      "3           1              0.002706    \n",
      "4           3              0.050270    \n",
      "5           3              0.001806    \n",
      "6           1              0.002407    \n",
      "7           1              0.003035    \n",
      "8           3              0.001715    \n",
      "9           1              0.003612    \n",
      "10          1              0.000327    \n",
      "11          3              0.005570    \n",
      "12          1              0.003853    \n",
      "13          3              0.001988    \n",
      "14          3              0.003786    \n",
      "15          3              0.003537    \n",
      "16          3              0.002461    \n",
      "17          3              0.003829    \n",
      "18          3              0.004553    \n",
      "19          3              0.001901    \n",
      "20          3              0.003450    \n",
      "21          3              0.003633    \n",
      "22          1              0.004045    \n",
      "23          1              0.001608    \n",
      "24          1              0.003514    \n",
      "25          3              0.003876    \n",
      "26          3              0.000751    \n",
      "27          1              0.003278    \n",
      "28          1              0.003166    \n",
      "29          1              0.001161    \n",
      "30          1              0.002496    \n",
      "31          1              0.002567    \n",
      "32          3              0.001826    \n",
      "33          1              0.002248    \n",
      "34          3              0.002763    \n",
      "35          3              0.002460    \n",
      "36          1              0.002579    \n",
      "37          3              0.003353    \n",
      "38          3              0.002441    \n",
      "39          1              0.001767    \n",
      "40          3              0.003057    \n",
      "41          3              0.003515    \n",
      "42          3              0.002485    \n",
      "43          3              0.001847    \n",
      "44          1              0.002948    \n",
      "45          1              0.003183    \n",
      "46          1              0.004957    \n",
      "47          3              0.003426    \n",
      "48          1              0.002261    \n",
      "49          3              0.002074    \n",
      "50          1              0.004269    \n",
      "51          1              0.006342    \n",
      "52          3              0.004132    \n",
      "53          1              0.000437    \n",
      "54          3              0.002637    \n",
      "55          1              0.001181    \n",
      "56          1              0.003367    \n",
      "57          3              0.002590    \n",
      "58          1              0.002028    \n",
      "59          3              0.004170    \n",
      "60          3              0.002998    \n",
      "61          3              0.004898    \n",
      "62          1              0.002689    \n",
      "63          3              0.004444    \n",
      "64          1              0.001490    \n",
      "65          1              0.008393    \n",
      "66          1              0.002162    \n",
      "67          3              0.003851    \n",
      "68          3              0.004625    \n",
      "69          1              0.001675    \n",
      "70          3              0.002966    \n",
      "71          1              0.003288    \n",
      "72          1              0.001479    \n",
      "73          3              0.004699    \n",
      "74          3              0.003695    \n",
      "75          3              0.001469    \n",
      "76          3              0.002191    \n",
      "77          1              0.002254    \n",
      "78          1              0.003900    \n",
      "79          1              0.002601    \n",
      "80          3              0.002918    \n",
      "81          1              0.002590    \n",
      "82          1              0.001865    \n",
      "83          1              0.002904    \n",
      "84          3              0.002776    \n",
      "85          1              0.001141    \n",
      "86          1              0.003189    \n",
      "87          1              0.002775    \n",
      "88          1              0.002695    \n",
      "89          3              0.004099    \n",
      "90          1              0.004821    \n",
      "91          1              0.001947    \n",
      "92          1              0.003359    \n",
      "93          3              0.003721    \n",
      "94          1              0.002102    \n",
      "95          1              0.001682    \n",
      "96          3              0.002687    \n",
      "97          3              0.001794    \n",
      "98          1              0.003404    \n",
      "99          3              0.002317    \n",
      "100         3              0.001642    \n",
      "101         1              0.002013    \n",
      "102         3              0.004796    \n",
      "103         3              0.007123    \n",
      "104         3              0.004208    \n",
      "105         1              0.003102    \n",
      "106         3              0.002889    \n",
      "107         1              0.002195    \n",
      "108         3              0.005003    \n",
      "109         3              0.004899    \n",
      "110         3              0.002338    \n",
      "111         3              0.002179    \n",
      "112         3              0.003273    \n",
      "113         1              0.002034    \n",
      "114         1              0.002285    \n",
      "115         3              0.003364    \n",
      "116         3              0.002527    \n",
      "117         1              0.002975    \n",
      "118         3              0.003846    \n",
      "119         1              0.003697    \n",
      "120         3              0.002541    \n",
      "121         1              0.002674    \n",
      "122         1              0.002826    \n",
      "123         3              0.002573    \n",
      "124         3              0.000850    \n",
      "125         3              0.003857    \n",
      "126         3              0.003810    \n",
      "127         3              0.001316    \n",
      "128         3              0.001535    \n",
      "129         3              0.001827    \n",
      "130         1              0.002256    \n",
      "131         3              0.001583    \n",
      "132         3              0.004863    \n",
      "133         3              0.004125    \n",
      "134         1              0.004052    \n",
      "135         1              0.002325    \n",
      "136         3              0.005315    \n",
      "137         1              0.003052    \n",
      "138         1              0.001047    \n",
      "139         1              0.003024    \n",
      "140         3              0.002060    \n",
      "141         3              0.004088    \n",
      "142         1              0.003307    \n",
      "143         3              0.007930    \n",
      "144         3              0.005130    \n",
      "145         1              0.001106    \n",
      "146         3              0.003770    \n",
      "147         3              0.001248    \n",
      "148         3              0.002599    \n",
      "149         1              0.000925    \n",
      "150         3              0.006332    \n",
      "151         1              0.002048    \n",
      "152         3              0.011760    \n",
      "153         1              0.001545    \n",
      "154         1              0.003174    \n",
      "155         1              0.001435    \n",
      "156         1              0.003821    \n",
      "157         3              0.002190    \n",
      "158         1              0.004643    \n",
      "159         1              0.003019    \n",
      "160         3              0.002962    \n",
      "161         1              0.002001    \n",
      "162         1              0.003861    \n",
      "163         1              0.002121    \n",
      "164         1              0.001347    \n",
      "165         1              0.002628    \n",
      "166         1              0.003818    \n",
      "167         1              0.001961    \n",
      "168         3              0.005861    \n",
      "169         3              0.001007    \n",
      "170         3              0.002128    \n",
      "171         3              0.001744    \n",
      "172         1              0.002832    \n",
      "173         1              0.002959    \n",
      "174         3              0.003416    \n",
      "175         1              0.000753    \n",
      "176         1              0.002613    \n",
      "177         3              0.001170    \n",
      "178         3              0.004527    \n",
      "179         1              0.001027    \n",
      "180         3              0.001025    \n",
      "181         1              0.003670    \n",
      "182         1              0.003227    \n",
      "183         1              0.002063    \n",
      "184         1              0.003266    \n",
      "185         3              0.003771    \n",
      "186         1              0.001620    \n",
      "187         1              0.003847    \n",
      "188         1              0.002680    \n",
      "189         1              0.001729    \n",
      "190         1              0.001826    \n",
      "191         3              0.001579    \n",
      "192         1              0.003804    \n",
      "193         3              0.001016    \n",
      "194         1              0.002672    \n",
      "195         3              0.004984    \n",
      "196         1              0.002366    \n",
      "197         3              0.001339    \n",
      "198         3              0.003874    \n",
      "199         1              0.003122    \n",
      "200         3              0.004269    \n",
      "201         1              0.002845    \n",
      "202         1              0.002645    \n",
      "203         3              0.000920    \n",
      "204         1              0.001697    \n",
      "205         1              0.005934    \n",
      "206         3              0.001658    \n",
      "207         3              0.001501    \n",
      "208         3              0.003454    \n",
      "209         3              0.004810    \n",
      "210         3              0.001831    \n",
      "211         1              0.003270    \n",
      "212         3              0.001937    \n",
      "213         3              0.002985    \n",
      "214         3              0.003915    \n",
      "215         1              0.000723    \n",
      "216         3              0.004556    \n",
      "217         1              0.002314    \n",
      "218         1              0.001135    \n",
      "219         1              0.002261    \n",
      "220         3              0.002536    \n",
      "221         3              0.002583    \n",
      "222         3              0.002260    \n",
      "223         1              0.001132    \n",
      "224         3              0.002572    \n",
      "225         1              0.002357    \n",
      "226         1              0.002819    \n",
      "227         3              0.003682    \n",
      "228         1              0.001877    \n",
      "229         1              0.001735    \n",
      "230         1              0.003120    \n",
      "231         3              0.002346    \n",
      "232         1              0.002158    \n",
      "233         1              0.002386    \n",
      "234         1              0.001505    \n",
      "235         3              0.004355    \n",
      "236         3              0.003015    \n",
      "237         3              0.002851    \n",
      "238         1              0.002834    \n",
      "239         3              0.004252    \n",
      "240         3              0.002356    \n",
      "241         3              0.002778    \n",
      "242         3              0.002913    \n",
      "243         3              0.002667    \n",
      "244         3              0.003395    \n",
      "245         3              0.004112    \n",
      "246         3              0.003181    \n",
      "247         3              0.003078    \n",
      "248         3              0.001863    \n",
      "249         1              0.001511    \n",
      "250         3              0.002676    \n",
      "251         3              0.002710    \n",
      "252         1              0.003420    \n",
      "253         3              0.002971    \n",
      "254         3              0.002299    \n",
      "255         1              0.002596    \n",
      "256         1              0.002490    \n",
      "257         3              0.003309    \n",
      "258         3              0.003692    \n",
      "259         3              0.001289    \n",
      "260         3              0.006720    \n",
      "261         1              0.002990    \n",
      "262         3              0.005524    \n",
      "263         3              0.003285    \n",
      "264         3              0.002292    \n",
      "265         1              0.003226    \n",
      "266         1              0.003220    \n",
      "267         1              0.001917    \n",
      "268         3              0.004322    \n",
      "269         3              0.002000    \n",
      "270         3              0.005028    \n",
      "271         3              0.003772    \n",
      "272         1              0.001089    \n",
      "273         1              0.004038    \n",
      "274         1              0.003112    \n",
      "275         1              0.002557    \n",
      "276         3              0.001831    \n",
      "277         1              0.002021    \n",
      "278         1              0.004468    \n",
      "279         3              0.002208    \n",
      "280         3              0.002847    \n",
      "281         1              0.001877    \n",
      "282         1              0.001202    \n",
      "283         1              0.002880    \n",
      "284         3              0.002644    \n",
      "285         1              0.004193    \n",
      "286         1              0.001263    \n",
      "287         1              0.001932    \n",
      "288         1              0.003918    \n",
      "289         3              0.004009    \n",
      "290         1              0.002667    \n",
      "291         1              0.002434    \n",
      "292         3              0.003133    \n",
      "293         1              0.002403    \n",
      "294         3              0.002911    \n",
      "295         1              0.001957    \n",
      "296         1              0.002599    \n",
      "297         3              0.004729    \n",
      "298         1              0.002656    \n",
      "299         3              0.001471    \n",
      "300         3              0.005524    \n",
      "301         3              0.003932    \n",
      "302         3              0.002040    \n",
      "303         1              0.001808    \n",
      "304         1              0.003288    \n",
      "305         3              0.002524    \n",
      "306         3              0.002538    \n",
      "307         3              0.004526    \n",
      "308         1              0.001715    \n",
      "309         3              0.001502    \n",
      "310         3              0.003029    \n",
      "311         1              0.002010    \n",
      "312         1              0.003635    \n",
      "313         3              0.002398    \n",
      "314         3              0.002618    \n",
      "315         1              0.000519    \n",
      "316         3              0.002722    \n",
      "317         1              0.002155    \n",
      "318         1              0.003155    \n",
      "319         3              0.001702    \n",
      "320         3              0.003679    \n",
      "321         1              0.002647    \n",
      "322         1              0.001718    \n",
      "323         1              0.002232    \n",
      "324         3              0.002935    \n",
      "325         3              0.003847    \n",
      "326         1              0.001730    \n",
      "327         1              0.002919    \n",
      "328         3              0.004675    \n",
      "329         3              0.003801    \n",
      "330         3              0.003382    \n",
      "331         1              0.001884    \n",
      "332         3              0.002292    \n",
      "333         1              0.003367    \n",
      "334         3              0.004075    \n",
      "335         1              0.001421    \n",
      "336         3              0.002419    \n",
      "337         4              0.007153    \n",
      "338         3              0.001327    \n",
      "339         3              0.002538    \n",
      "340         1              0.003697    \n",
      "341         1              0.002301    \n",
      "342         3              0.004274    \n",
      "343         3              0.001041    \n",
      "344         1              0.002539    \n",
      "345         1              0.003052    \n",
      "346         3              0.004226    \n",
      "347         1              0.002531    \n",
      "348         3              0.003568    \n",
      "349         3              0.004121    \n",
      "350         1              0.002958    \n",
      "351         1              0.003574    \n",
      "352         1              0.001283    \n",
      "353         1              0.001455    \n",
      "354         1              0.002864    \n",
      "355         1              0.002105    \n",
      "356         1              0.002431    \n",
      "357         1              0.002909    \n",
      "358         1              0.002524    \n",
      "359         1              0.001366    \n",
      "360         1              0.001667    \n",
      "361         3              0.002538    \n",
      "362         1              0.001554    \n",
      "363         1              0.003388    \n",
      "364         3              0.002244    \n",
      "365         3              0.001565    \n",
      "366         1              0.004100    \n",
      "367         1              0.002193    \n",
      "368         1              0.001254    \n",
      "369         1              0.001693    \n",
      "370         1              0.001627    \n",
      "371         3              0.003061    \n",
      "372         1              0.003387    \n",
      "373         1              0.002601    \n",
      "374         1              0.001975    \n",
      "375         1              0.000807    \n",
      "376         1              0.002478    \n",
      "377         3              0.003567    \n",
      "378         3              0.004333    \n",
      "379         1              0.001733    \n",
      "380         1              0.002556    \n",
      "381         3              0.002400    \n",
      "382         1              0.002055    \n",
      "383         1              0.003398    \n",
      "384         1              0.002079    \n",
      "385         1              0.003759    \n",
      "386         3              0.001876    \n",
      "387         3              0.004710    \n",
      "388         3              0.003056    \n",
      "389         3              0.002589    \n",
      "390         1              0.002939    \n",
      "391         1              0.004476    \n",
      "392         1              0.001178    \n",
      "393         1              0.002481    \n",
      "394         3              0.001903    \n",
      "395         3              0.002957    \n",
      "396         3              0.001174    \n",
      "397         3              0.002388    \n",
      "398         3              0.001862    \n",
      "399         1              0.003136    \n",
      "400         3              0.004426    \n",
      "401         1              0.003398    \n",
      "402         1              0.001316    \n",
      "403         1              0.002811    \n",
      "404         3              0.005503    \n",
      "405         3              0.002591    \n",
      "406         4              0.003642    \n",
      "407         1              0.002146    \n",
      "408         3              0.004271    \n",
      "409         3              0.002460    \n",
      "410         1              0.002387    \n",
      "411         1              0.002273    \n",
      "412         1              0.001702    \n",
      "413         1              0.003648    \n",
      "414         3              0.002235    \n",
      "415         3              0.005013    \n",
      "416         1              0.003398    \n",
      "417         1              0.003717    \n",
      "418         3              0.004989    \n",
      "419         3              0.003429    \n",
      "420         3              0.002744    \n",
      "421         3              0.001513    \n",
      "422         3              0.003125    \n",
      "423         3              0.003630    \n",
      "424         1              0.003918    \n",
      "425         1              0.003643    \n",
      "426         1              0.003256    \n",
      "427         3              0.002003    \n",
      "428         3              0.002819    \n",
      "429         1              0.002741    \n",
      "430         1              0.003657    \n",
      "431         3              0.004006    \n",
      "432         1              0.002153    \n",
      "433         1              0.001818    \n",
      "434         3              0.002132    \n",
      "435         1              0.002522    \n",
      "436         1              0.003297    \n",
      "437         1              0.001901    \n",
      "438         3              0.005318    \n",
      "439         3              0.002557    \n",
      "440         3              0.003248    \n",
      "441         3              0.002092    \n",
      "442         3              0.005904    \n",
      "443         1              0.001461    \n",
      "444         1              0.002223    \n",
      "445         1              0.002452    \n",
      "446         1              0.001678    \n",
      "447         1              0.002560    \n",
      "448         3              0.002903    \n",
      "449         1              0.003634    \n",
      "450         1              0.003208    \n",
      "451         3              0.003109    \n",
      "452         1              0.003388    \n",
      "453         1              0.002576    \n",
      "454         1              0.002105    \n",
      "455         3              0.005102    \n",
      "456         1              0.003050    \n",
      "457         3              0.002210    \n",
      "458         3              0.002386    \n",
      "459         3              0.003020    \n",
      "460         3              0.003514    \n",
      "461         1              0.003552    \n",
      "462         3              0.002548    \n",
      "463         3              0.004287    \n",
      "464         1              0.001109    \n",
      "465         3              0.002238    \n",
      "466         3              0.003395    \n",
      "467         3              0.002190    \n",
      "468         3              0.002359    \n",
      "469         1              0.002233    \n",
      "470         3              0.002625    \n",
      "471         3              0.004168    \n",
      "472         1              0.003229    \n",
      "473         3              0.004729    \n",
      "474         3              0.003825    \n",
      "475         1              0.005335    \n",
      "476         1              0.004461    \n",
      "477         1              0.586375    \n",
      "478         1              0.002543    \n",
      "479         1              0.002813    \n",
      "480         3              0.003118    \n",
      "481         1              0.001430    \n",
      "482         1              0.002404    \n",
      "483         1              0.002963    \n",
      "484         3              0.003121    \n",
      "485         1              0.001395    \n",
      "486         3              0.000968    \n",
      "487         1              0.001447    \n",
      "488         1              0.002930    \n",
      "489         3              0.003565    \n",
      "490         1              0.002251    \n",
      "491         1              0.003394    \n",
      "492         1              0.003087    \n",
      "493         1              0.000803    \n",
      "494         1              0.002017    \n",
      "495         1              0.002338    \n",
      "496         1              0.001979    \n",
      "497         3              0.001909    \n",
      "498         3              0.002550    \n",
      "499         1              0.001973    \n"
     ]
    }
   ],
   "source": [
    "for i in range(len(np_dt_ts)): \n",
    "    cluster_class, similarity = Cluster_pulse(cluster_centroids, np_dt_ts[i])\n",
    "\n",
    "    forcast_ts_class.append(cluster_class)\n",
    "    print(\"%-12i%-12i   %-12f\" % (i, cluster_class, similarity))"
   ]
  },
  {
   "cell_type": "code",
   "execution_count": 46,
   "metadata": {},
   "outputs": [],
   "source": [
    "ts_aim = np.array(lab_dtts.iloc[:, 0])"
   ]
  },
  {
   "cell_type": "code",
   "execution_count": 50,
   "metadata": {
    "scrolled": true
   },
   "outputs": [
    {
     "data": {
      "text/plain": [
       "0.03539307256937877"
      ]
     },
     "execution_count": 50,
     "metadata": {},
     "output_type": "execute_result"
    }
   ],
   "source": [
    "forcast_ts = np.array(forcast_ts_class)\n",
    "completeness_score(ts_aim, forcast_ts)"
   ]
  },
  {
   "cell_type": "code",
   "execution_count": 51,
   "metadata": {},
   "outputs": [
    {
     "data": {
      "text/plain": [
       "0.015804917932517967"
      ]
     },
     "execution_count": 51,
     "metadata": {},
     "output_type": "execute_result"
    }
   ],
   "source": [
    "homogeneity_score(ts_aim, forcast_ts)"
   ]
  }
 ],
 "metadata": {
  "kernelspec": {
   "display_name": "Python 3",
   "language": "python",
   "name": "python3"
  },
  "language_info": {
   "codemirror_mode": {
    "name": "ipython",
    "version": 3
   },
   "file_extension": ".py",
   "mimetype": "text/x-python",
   "name": "python",
   "nbconvert_exporter": "python",
   "pygments_lexer": "ipython3",
   "version": "3.7.4"
  }
 },
 "nbformat": 4,
 "nbformat_minor": 2
}
